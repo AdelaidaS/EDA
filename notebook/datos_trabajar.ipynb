{
 "cells": [
  {
   "cell_type": "code",
   "execution_count": 275,
   "metadata": {},
   "outputs": [],
   "source": [
    "import pandas as pd\n",
    "import seaborn as sns\n",
    "import matplotlib.pyplot as plt\n",
    "import plotly.express as px"
   ]
  },
  {
   "cell_type": "code",
   "execution_count": 148,
   "metadata": {},
   "outputs": [
    {
     "data": {
      "text/html": [
       "<div>\n",
       "<style scoped>\n",
       "    .dataframe tbody tr th:only-of-type {\n",
       "        vertical-align: middle;\n",
       "    }\n",
       "\n",
       "    .dataframe tbody tr th {\n",
       "        vertical-align: top;\n",
       "    }\n",
       "\n",
       "    .dataframe thead th {\n",
       "        text-align: right;\n",
       "    }\n",
       "</style>\n",
       "<table border=\"1\" class=\"dataframe\">\n",
       "  <thead>\n",
       "    <tr style=\"text-align: right;\">\n",
       "      <th></th>\n",
       "      <th>Comunidades y Ciudades Autónomas</th>\n",
       "      <th>Renta anual neta media por hogar</th>\n",
       "      <th>Periodo</th>\n",
       "      <th>Total</th>\n",
       "    </tr>\n",
       "  </thead>\n",
       "  <tbody>\n",
       "    <tr>\n",
       "      <th>0</th>\n",
       "      <td>Total Nacional</td>\n",
       "      <td>Renta neta media por hogar</td>\n",
       "      <td>2021</td>\n",
       "      <td>30.552</td>\n",
       "    </tr>\n",
       "    <tr>\n",
       "      <th>1</th>\n",
       "      <td>Total Nacional</td>\n",
       "      <td>Renta neta media por hogar</td>\n",
       "      <td>2020</td>\n",
       "      <td>30.690</td>\n",
       "    </tr>\n",
       "    <tr>\n",
       "      <th>2</th>\n",
       "      <td>Total Nacional</td>\n",
       "      <td>Renta neta media por hogar</td>\n",
       "      <td>2019</td>\n",
       "      <td>29.132</td>\n",
       "    </tr>\n",
       "    <tr>\n",
       "      <th>3</th>\n",
       "      <td>Total Nacional</td>\n",
       "      <td>Renta neta media por hogar</td>\n",
       "      <td>2018</td>\n",
       "      <td>28.417</td>\n",
       "    </tr>\n",
       "    <tr>\n",
       "      <th>4</th>\n",
       "      <td>Total Nacional</td>\n",
       "      <td>Renta neta media por hogar</td>\n",
       "      <td>2017</td>\n",
       "      <td>27.558</td>\n",
       "    </tr>\n",
       "    <tr>\n",
       "      <th>...</th>\n",
       "      <td>...</td>\n",
       "      <td>...</td>\n",
       "      <td>...</td>\n",
       "      <td>...</td>\n",
       "    </tr>\n",
       "    <tr>\n",
       "      <th>95</th>\n",
       "      <td>19 Melilla</td>\n",
       "      <td>Renta neta media por hogar</td>\n",
       "      <td>2021</td>\n",
       "      <td>36.038</td>\n",
       "    </tr>\n",
       "    <tr>\n",
       "      <th>96</th>\n",
       "      <td>19 Melilla</td>\n",
       "      <td>Renta neta media por hogar</td>\n",
       "      <td>2020</td>\n",
       "      <td>37.138</td>\n",
       "    </tr>\n",
       "    <tr>\n",
       "      <th>97</th>\n",
       "      <td>19 Melilla</td>\n",
       "      <td>Renta neta media por hogar</td>\n",
       "      <td>2019</td>\n",
       "      <td>37.552</td>\n",
       "    </tr>\n",
       "    <tr>\n",
       "      <th>98</th>\n",
       "      <td>19 Melilla</td>\n",
       "      <td>Renta neta media por hogar</td>\n",
       "      <td>2018</td>\n",
       "      <td>41.714</td>\n",
       "    </tr>\n",
       "    <tr>\n",
       "      <th>99</th>\n",
       "      <td>19 Melilla</td>\n",
       "      <td>Renta neta media por hogar</td>\n",
       "      <td>2017</td>\n",
       "      <td>34.089</td>\n",
       "    </tr>\n",
       "  </tbody>\n",
       "</table>\n",
       "<p>100 rows × 4 columns</p>\n",
       "</div>"
      ],
      "text/plain": [
       "   Comunidades y Ciudades Autónomas Renta anual neta media por hogar  Periodo  \\\n",
       "0                    Total Nacional       Renta neta media por hogar     2021   \n",
       "1                    Total Nacional       Renta neta media por hogar     2020   \n",
       "2                    Total Nacional       Renta neta media por hogar     2019   \n",
       "3                    Total Nacional       Renta neta media por hogar     2018   \n",
       "4                    Total Nacional       Renta neta media por hogar     2017   \n",
       "..                              ...                              ...      ...   \n",
       "95                       19 Melilla       Renta neta media por hogar     2021   \n",
       "96                       19 Melilla       Renta neta media por hogar     2020   \n",
       "97                       19 Melilla       Renta neta media por hogar     2019   \n",
       "98                       19 Melilla       Renta neta media por hogar     2018   \n",
       "99                       19 Melilla       Renta neta media por hogar     2017   \n",
       "\n",
       "     Total  \n",
       "0   30.552  \n",
       "1   30.690  \n",
       "2   29.132  \n",
       "3   28.417  \n",
       "4   27.558  \n",
       "..     ...  \n",
       "95  36.038  \n",
       "96  37.138  \n",
       "97  37.552  \n",
       "98  41.714  \n",
       "99  34.089  \n",
       "\n",
       "[100 rows x 4 columns]"
      ]
     },
     "execution_count": 148,
     "metadata": {},
     "output_type": "execute_result"
    }
   ],
   "source": [
    "pd.read_csv('renta_media_CCAA.csv', encoding='latin-1', sep=';')"
   ]
  },
  {
   "cell_type": "code",
   "execution_count": 149,
   "metadata": {},
   "outputs": [],
   "source": [
    "panel21_kg = pd.read_csv('/Users/Ade/OneDrive/Escritorio/EDA/datos consumo/panel21_kg.csv')\n",
    "panel20_kg = pd.read_csv('/Users/Ade/OneDrive/Escritorio/EDA/datos consumo/panel20_kg.csv')\n",
    "panel19_kg = pd.read_csv('/Users/Ade/OneDrive/Escritorio/EDA/datos consumo/panel19_kg.csv')"
   ]
  },
  {
   "cell_type": "code",
   "execution_count": 179,
   "metadata": {},
   "outputs": [],
   "source": [
    "panel21_España = pd.read_csv('/Users/Ade/OneDrive/Escritorio/EDA/datos consumo/panel21_España.csv')\n",
    "panel20_España = pd.read_csv('/Users/Ade/OneDrive/Escritorio/EDA/datos consumo/panel20_España.csv')\n",
    "panel19_España = pd.read_csv('/Users/Ade/OneDrive/Escritorio/EDA/datos consumo/panel19_España.csv')"
   ]
  },
  {
   "cell_type": "code",
   "execution_count": 180,
   "metadata": {},
   "outputs": [
    {
     "data": {
      "text/html": [
       "<div>\n",
       "<style scoped>\n",
       "    .dataframe tbody tr th:only-of-type {\n",
       "        vertical-align: middle;\n",
       "    }\n",
       "\n",
       "    .dataframe tbody tr th {\n",
       "        vertical-align: top;\n",
       "    }\n",
       "\n",
       "    .dataframe thead th {\n",
       "        text-align: right;\n",
       "    }\n",
       "</style>\n",
       "<table border=\"1\" class=\"dataframe\">\n",
       "  <thead>\n",
       "    <tr style=\"text-align: right;\">\n",
       "      <th></th>\n",
       "      <th>ventas(miles €)</th>\n",
       "      <th>ESPAÑA</th>\n",
       "    </tr>\n",
       "  </thead>\n",
       "  <tbody>\n",
       "    <tr>\n",
       "      <th>0</th>\n",
       "      <td>.TOTAL ALIMENTACION</td>\n",
       "      <td>7.454360e+07</td>\n",
       "    </tr>\n",
       "    <tr>\n",
       "      <th>1</th>\n",
       "      <td>TORTILLAS REFRIGERADTORTILLAS REFRIGE.SG</td>\n",
       "      <td>1.432728e+05</td>\n",
       "    </tr>\n",
       "  </tbody>\n",
       "</table>\n",
       "</div>"
      ],
      "text/plain": [
       "                            ventas(miles €)        ESPAÑA\n",
       "0                       .TOTAL ALIMENTACION  7.454360e+07\n",
       "1  TORTILLAS REFRIGERADTORTILLAS REFRIGE.SG  1.432728e+05"
      ]
     },
     "execution_count": 180,
     "metadata": {},
     "output_type": "execute_result"
    }
   ],
   "source": [
    "panel21_España"
   ]
  },
  {
   "cell_type": "code",
   "execution_count": 181,
   "metadata": {},
   "outputs": [
    {
     "data": {
      "text/html": [
       "<div>\n",
       "<style scoped>\n",
       "    .dataframe tbody tr th:only-of-type {\n",
       "        vertical-align: middle;\n",
       "    }\n",
       "\n",
       "    .dataframe tbody tr th {\n",
       "        vertical-align: top;\n",
       "    }\n",
       "\n",
       "    .dataframe thead th {\n",
       "        text-align: right;\n",
       "    }\n",
       "</style>\n",
       "<table border=\"1\" class=\"dataframe\">\n",
       "  <thead>\n",
       "    <tr style=\"text-align: right;\">\n",
       "      <th></th>\n",
       "      <th>ventas(miles €)</th>\n",
       "      <th>T.ESPAÑA</th>\n",
       "    </tr>\n",
       "  </thead>\n",
       "  <tbody>\n",
       "    <tr>\n",
       "      <th>0</th>\n",
       "      <td>.TOTAL ALIMENTACION</td>\n",
       "      <td>7.934825e+07</td>\n",
       "    </tr>\n",
       "    <tr>\n",
       "      <th>1</th>\n",
       "      <td>TORTILLAS REFRIGERADTORTILLAS REFRIGE.SG</td>\n",
       "      <td>1.160943e+05</td>\n",
       "    </tr>\n",
       "  </tbody>\n",
       "</table>\n",
       "</div>"
      ],
      "text/plain": [
       "                            ventas(miles €)      T.ESPAÑA\n",
       "0                       .TOTAL ALIMENTACION  7.934825e+07\n",
       "1  TORTILLAS REFRIGERADTORTILLAS REFRIGE.SG  1.160943e+05"
      ]
     },
     "execution_count": 181,
     "metadata": {},
     "output_type": "execute_result"
    }
   ],
   "source": [
    "panel20_España"
   ]
  },
  {
   "cell_type": "code",
   "execution_count": 182,
   "metadata": {},
   "outputs": [
    {
     "data": {
      "text/html": [
       "<div>\n",
       "<style scoped>\n",
       "    .dataframe tbody tr th:only-of-type {\n",
       "        vertical-align: middle;\n",
       "    }\n",
       "\n",
       "    .dataframe tbody tr th {\n",
       "        vertical-align: top;\n",
       "    }\n",
       "\n",
       "    .dataframe thead th {\n",
       "        text-align: right;\n",
       "    }\n",
       "</style>\n",
       "<table border=\"1\" class=\"dataframe\">\n",
       "  <thead>\n",
       "    <tr style=\"text-align: right;\">\n",
       "      <th></th>\n",
       "      <th>ventas(miles €)</th>\n",
       "      <th>ESPAÑA</th>\n",
       "    </tr>\n",
       "  </thead>\n",
       "  <tbody>\n",
       "    <tr>\n",
       "      <th>0</th>\n",
       "      <td>.TOTAL ALIMENTACION</td>\n",
       "      <td>6.950313e+07</td>\n",
       "    </tr>\n",
       "    <tr>\n",
       "      <th>1</th>\n",
       "      <td>TORTILLAS REFRIGERADTORTILLAS REFRIGE.SG</td>\n",
       "      <td>6.897601e+04</td>\n",
       "    </tr>\n",
       "  </tbody>\n",
       "</table>\n",
       "</div>"
      ],
      "text/plain": [
       "                            ventas(miles €)        ESPAÑA\n",
       "0                       .TOTAL ALIMENTACION  6.950313e+07\n",
       "1  TORTILLAS REFRIGERADTORTILLAS REFRIGE.SG  6.897601e+04"
      ]
     },
     "execution_count": 182,
     "metadata": {},
     "output_type": "execute_result"
    }
   ],
   "source": [
    "panel19_España"
   ]
  },
  {
   "cell_type": "code",
   "execution_count": 185,
   "metadata": {},
   "outputs": [
    {
     "data": {
      "text/html": [
       "<div>\n",
       "<style scoped>\n",
       "    .dataframe tbody tr th:only-of-type {\n",
       "        vertical-align: middle;\n",
       "    }\n",
       "\n",
       "    .dataframe tbody tr th {\n",
       "        vertical-align: top;\n",
       "    }\n",
       "\n",
       "    .dataframe thead th {\n",
       "        text-align: right;\n",
       "    }\n",
       "</style>\n",
       "<table border=\"1\" class=\"dataframe\">\n",
       "  <thead>\n",
       "    <tr style=\"text-align: right;\">\n",
       "      <th></th>\n",
       "      <th>ventas(miles €)</th>\n",
       "      <th>2019</th>\n",
       "      <th>2020</th>\n",
       "      <th>2021</th>\n",
       "    </tr>\n",
       "  </thead>\n",
       "  <tbody>\n",
       "    <tr>\n",
       "      <th>0</th>\n",
       "      <td>.TOTAL ALIMENTACION</td>\n",
       "      <td>6.950313e+07</td>\n",
       "      <td>7.934825e+07</td>\n",
       "      <td>7.454360e+07</td>\n",
       "    </tr>\n",
       "    <tr>\n",
       "      <th>1</th>\n",
       "      <td>TORTILLAS REFRIGERADTORTILLAS REFRIGE.SG</td>\n",
       "      <td>6.897601e+04</td>\n",
       "      <td>1.160943e+05</td>\n",
       "      <td>1.432728e+05</td>\n",
       "    </tr>\n",
       "  </tbody>\n",
       "</table>\n",
       "</div>"
      ],
      "text/plain": [
       "                            ventas(miles €)          2019          2020  \\\n",
       "0                       .TOTAL ALIMENTACION  6.950313e+07  7.934825e+07   \n",
       "1  TORTILLAS REFRIGERADTORTILLAS REFRIGE.SG  6.897601e+04  1.160943e+05   \n",
       "\n",
       "           2021  \n",
       "0  7.454360e+07  \n",
       "1  1.432728e+05  "
      ]
     },
     "execution_count": 185,
     "metadata": {},
     "output_type": "execute_result"
    }
   ],
   "source": [
    "España1920 = pd.merge(panel19_España, panel20_España, on='ventas(miles €)', how='inner')\n",
    "España = pd.merge(España1920, panel21_España, on='ventas(miles €)', how='inner')\n",
    "España.columns = ['ventas(miles €)', '2019', '2020', '2021']\n",
    "España = pd.DataFrame (España)\n",
    "España\n"
   ]
  },
  {
   "cell_type": "code",
   "execution_count": 186,
   "metadata": {},
   "outputs": [
    {
     "data": {
      "image/png": "[encoded data removed]",
      "text/plain": [
       "<Figure size 1200x400 with 2 Axes>"
      ]
     },
     "metadata": {},
     "output_type": "display_data"
    }
   ],
   "source": [
    "# Convertir el DataFrame a formato largo\n",
    "espania_melted = pd.melt(España, id_vars=['ventas(miles €)'], value_vars=['2019', '2020', '2021'], var_name='Año', value_name='Ventas')\n",
    "Año = '2019', '2020', '2021'\n",
    "# Crear los subplots\n",
    "fig, axs = plt.subplots(ncols=2, figsize=(12, 4))\n",
    "\n",
    "# Plot1\n",
    "sns.set_style('whitegrid')\n",
    "sns.barplot(ax=axs[0], x='Año', y='Ventas', data=espania_melted[espania_melted['ventas(miles €)'] == '.TOTAL ALIMENTACION'], palette='Set2', width=0.5)\n",
    "axs[0].set_title('Total alimentacion')\n",
    "axs[0].set_xlabel('2019                                2020                                      2021')\n",
    "axs[0].set_xticks([])\n",
    "\n",
    "\n",
    "# Plot2\n",
    "sns.set_style('whitegrid')\n",
    "sns.barplot(ax=axs[1], x='Año', y='Ventas', data=espania_melted[espania_melted['ventas(miles €)'] == 'TORTILLAS REFRIGERADTORTILLAS REFRIGE.SG'], palette='Set2',width=0.5)\n",
    "axs[1].set_title('Total tortillas refrigeradas')\n",
    "axs[1].set_xlabel('2019                                2020                                      2021')\n",
    "axs[1].set_xticks([])\n",
    "\n",
    "# Titulos \n",
    "plt.suptitle('Ventas 2018 a 2021', fontsize=14)\n",
    "plt.tight_layout(rect=[0, 0.03, 1, 0.95])\n",
    "\n",
    "plt.show()"
   ]
  },
  {
   "cell_type": "code",
   "execution_count": 156,
   "metadata": {},
   "outputs": [
    {
     "data": {
      "image/png": "[encoded data removed]",
      "text/plain": [
       "<Figure size 800x550 with 1 Axes>"
      ]
     },
     "metadata": {},
     "output_type": "display_data"
    }
   ],
   "source": [
    "# Configurar el estilo de la gráfica\n",
    "plt.style.use('seaborn')\n",
    "\n",
    "# Crear la figura y los ejes\n",
    "fig, ax = plt.subplots()\n",
    "\n",
    "# Crear la gráfica de líneas para .TOTAL ALIMENTACION\n",
    "ax.plot(España.columns[1:], df.loc[0][1:], label='.TOTAL ALIMENTACION', color='purple')\n",
    "\n",
    "# Crear la gráfica de líneas para TORTILLAS REFRIGERADTORTILLAS REFRIGE.SG\n",
    "ax.plot(España.columns[1:], España.loc[1][1:], label='TORTILLAS REFRIGERADTORTILLAS REFRIGE.SG', color='orange')\n",
    "\n",
    "# Agregar leyenda\n",
    "ax.legend()\n",
    "\n",
    "# Configurar el título y los ejes\n",
    "ax.set_title('Ventas por año')\n",
    "ax.set_xlabel('Año')\n",
    "ax.set_ylabel('Ventas (en miles de euros)')\n",
    "\n",
    "# Mostrar la gráfica\n",
    "plt.show()\n"
   ]
  },
  {
   "cell_type": "code",
   "execution_count": 157,
   "metadata": {},
   "outputs": [],
   "source": [
    "panel21_CCAA = pd.read_csv('/Users/Ade/OneDrive/Escritorio/EDA/datos consumo/panel21_CCAA.csv')"
   ]
  },
  {
   "cell_type": "code",
   "execution_count": 158,
   "metadata": {},
   "outputs": [
    {
     "data": {
      "text/html": [
       "<div>\n",
       "<style scoped>\n",
       "    .dataframe tbody tr th:only-of-type {\n",
       "        vertical-align: middle;\n",
       "    }\n",
       "\n",
       "    .dataframe tbody tr th {\n",
       "        vertical-align: top;\n",
       "    }\n",
       "\n",
       "    .dataframe thead th {\n",
       "        text-align: right;\n",
       "    }\n",
       "</style>\n",
       "<table border=\"1\" class=\"dataframe\">\n",
       "  <thead>\n",
       "    <tr style=\"text-align: right;\">\n",
       "      <th></th>\n",
       "      <th>ventas(miles €)</th>\n",
       "      <th>ESPAÑA</th>\n",
       "      <th>CATALUÑA</th>\n",
       "      <th>ARAGÓN</th>\n",
       "      <th>ILLES BALEARS</th>\n",
       "      <th>COMUNITAT VALENCIANA</th>\n",
       "      <th>REGIÓN DE MURCIA</th>\n",
       "      <th>ANDALUCÍA</th>\n",
       "      <th>COMUNIDAD DE MADRID</th>\n",
       "      <th>CASTILLA - LA MANCHA</th>\n",
       "      <th>EXTREMADURA</th>\n",
       "      <th>CASTILLA Y LEÓN</th>\n",
       "      <th>GALICIA</th>\n",
       "      <th>PRINCIPADO DE ASTURIAS</th>\n",
       "      <th>CANTABRIA</th>\n",
       "      <th>PAIS VASCO</th>\n",
       "      <th>LA RIOJA</th>\n",
       "      <th>C. FORAL DE NAVARRA</th>\n",
       "      <th>CANARIAS</th>\n",
       "    </tr>\n",
       "  </thead>\n",
       "  <tbody>\n",
       "    <tr>\n",
       "      <th>0</th>\n",
       "      <td>.TOTAL ALIMENTACION</td>\n",
       "      <td>7.454360e+07</td>\n",
       "      <td>1.320175e+07</td>\n",
       "      <td>2.224317e+06</td>\n",
       "      <td>1.960488e+06</td>\n",
       "      <td>7.717933e+06</td>\n",
       "      <td>2.223493e+06</td>\n",
       "      <td>1.221275e+07</td>\n",
       "      <td>9.982845e+06</td>\n",
       "      <td>3.032512e+06</td>\n",
       "      <td>1.504874e+06</td>\n",
       "      <td>4.008167e+06</td>\n",
       "      <td>4.577162e+06</td>\n",
       "      <td>1.883026e+06</td>\n",
       "      <td>892214.603834</td>\n",
       "      <td>4.150941e+06</td>\n",
       "      <td>488640.463368</td>\n",
       "      <td>1.064580e+06</td>\n",
       "      <td>3.417914e+06</td>\n",
       "    </tr>\n",
       "    <tr>\n",
       "      <th>1</th>\n",
       "      <td>T.HUEVOS KGS</td>\n",
       "      <td>9.861295e+05</td>\n",
       "      <td>1.639197e+05</td>\n",
       "      <td>3.036903e+04</td>\n",
       "      <td>2.298965e+04</td>\n",
       "      <td>1.018576e+05</td>\n",
       "      <td>2.744403e+04</td>\n",
       "      <td>1.650070e+05</td>\n",
       "      <td>1.290014e+05</td>\n",
       "      <td>3.817307e+04</td>\n",
       "      <td>1.807374e+04</td>\n",
       "      <td>4.957791e+04</td>\n",
       "      <td>7.090107e+04</td>\n",
       "      <td>2.481321e+04</td>\n",
       "      <td>13300.359453</td>\n",
       "      <td>6.018436e+04</td>\n",
       "      <td>6246.450495</td>\n",
       "      <td>1.506794e+04</td>\n",
       "      <td>4.920303e+04</td>\n",
       "    </tr>\n",
       "    <tr>\n",
       "      <th>2</th>\n",
       "      <td>T.HUEVOS UNDS.</td>\n",
       "      <td>9.861295e+05</td>\n",
       "      <td>1.639197e+05</td>\n",
       "      <td>3.036903e+04</td>\n",
       "      <td>2.298965e+04</td>\n",
       "      <td>1.018576e+05</td>\n",
       "      <td>2.744403e+04</td>\n",
       "      <td>1.650070e+05</td>\n",
       "      <td>1.290014e+05</td>\n",
       "      <td>3.817307e+04</td>\n",
       "      <td>1.807374e+04</td>\n",
       "      <td>4.957791e+04</td>\n",
       "      <td>7.090107e+04</td>\n",
       "      <td>2.481321e+04</td>\n",
       "      <td>13300.359453</td>\n",
       "      <td>6.018436e+04</td>\n",
       "      <td>6246.450495</td>\n",
       "      <td>1.506794e+04</td>\n",
       "      <td>4.920303e+04</td>\n",
       "    </tr>\n",
       "    <tr>\n",
       "      <th>3</th>\n",
       "      <td>TOTAL HUEVOS GALLINA</td>\n",
       "      <td>9.728149e+05</td>\n",
       "      <td>1.617447e+05</td>\n",
       "      <td>2.958079e+04</td>\n",
       "      <td>2.248252e+04</td>\n",
       "      <td>1.004759e+05</td>\n",
       "      <td>2.708351e+04</td>\n",
       "      <td>1.622625e+05</td>\n",
       "      <td>1.276378e+05</td>\n",
       "      <td>3.772926e+04</td>\n",
       "      <td>1.784634e+04</td>\n",
       "      <td>4.870107e+04</td>\n",
       "      <td>7.028891e+04</td>\n",
       "      <td>2.474811e+04</td>\n",
       "      <td>13218.103000</td>\n",
       "      <td>5.892545e+04</td>\n",
       "      <td>6158.339500</td>\n",
       "      <td>1.492888e+04</td>\n",
       "      <td>4.900276e+04</td>\n",
       "    </tr>\n",
       "    <tr>\n",
       "      <th>4</th>\n",
       "      <td>OTRAS AVES</td>\n",
       "      <td>1.331459e+04</td>\n",
       "      <td>2.175023e+03</td>\n",
       "      <td>7.882403e+02</td>\n",
       "      <td>5.071237e+02</td>\n",
       "      <td>1.381782e+03</td>\n",
       "      <td>3.605152e+02</td>\n",
       "      <td>2.744441e+03</td>\n",
       "      <td>1.363547e+03</td>\n",
       "      <td>4.438068e+02</td>\n",
       "      <td>2.274018e+02</td>\n",
       "      <td>8.768348e+02</td>\n",
       "      <td>6.121552e+02</td>\n",
       "      <td>6.510597e+01</td>\n",
       "      <td>82.256453</td>\n",
       "      <td>1.258918e+03</td>\n",
       "      <td>88.110995</td>\n",
       "      <td>1.390559e+02</td>\n",
       "      <td>2.002651e+02</td>\n",
       "    </tr>\n",
       "    <tr>\n",
       "      <th>...</th>\n",
       "      <td>...</td>\n",
       "      <td>...</td>\n",
       "      <td>...</td>\n",
       "      <td>...</td>\n",
       "      <td>...</td>\n",
       "      <td>...</td>\n",
       "      <td>...</td>\n",
       "      <td>...</td>\n",
       "      <td>...</td>\n",
       "      <td>...</td>\n",
       "      <td>...</td>\n",
       "      <td>...</td>\n",
       "      <td>...</td>\n",
       "      <td>...</td>\n",
       "      <td>...</td>\n",
       "      <td>...</td>\n",
       "      <td>...</td>\n",
       "      <td>...</td>\n",
       "      <td>...</td>\n",
       "    </tr>\n",
       "    <tr>\n",
       "      <th>676</th>\n",
       "      <td>BEBIDAS REFRESCAN.SG</td>\n",
       "      <td>9.164636e+04</td>\n",
       "      <td>9.069116e+03</td>\n",
       "      <td>1.300668e+03</td>\n",
       "      <td>2.713598e+03</td>\n",
       "      <td>8.505350e+03</td>\n",
       "      <td>3.342454e+03</td>\n",
       "      <td>2.860564e+04</td>\n",
       "      <td>1.077867e+04</td>\n",
       "      <td>5.687610e+03</td>\n",
       "      <td>3.111260e+03</td>\n",
       "      <td>3.656060e+03</td>\n",
       "      <td>3.096026e+03</td>\n",
       "      <td>1.701523e+03</td>\n",
       "      <td>528.465990</td>\n",
       "      <td>1.771213e+03</td>\n",
       "      <td>574.869540</td>\n",
       "      <td>2.505109e+02</td>\n",
       "      <td>6.953327e+03</td>\n",
       "    </tr>\n",
       "    <tr>\n",
       "      <th>677</th>\n",
       "      <td>HARINAS Y SEMOLAS  SG</td>\n",
       "      <td>2.837211e+04</td>\n",
       "      <td>4.948462e+03</td>\n",
       "      <td>6.996445e+02</td>\n",
       "      <td>1.301831e+03</td>\n",
       "      <td>2.698470e+03</td>\n",
       "      <td>7.500378e+02</td>\n",
       "      <td>3.667858e+03</td>\n",
       "      <td>3.922026e+03</td>\n",
       "      <td>1.013646e+03</td>\n",
       "      <td>3.642877e+02</td>\n",
       "      <td>1.183835e+03</td>\n",
       "      <td>1.732564e+03</td>\n",
       "      <td>1.050088e+03</td>\n",
       "      <td>281.552125</td>\n",
       "      <td>9.718398e+02</td>\n",
       "      <td>185.405280</td>\n",
       "      <td>3.140422e+02</td>\n",
       "      <td>3.286523e+03</td>\n",
       "    </tr>\n",
       "    <tr>\n",
       "      <th>678</th>\n",
       "      <td>RESTO PRODUCTOS SG</td>\n",
       "      <td>3.269743e+05</td>\n",
       "      <td>5.687004e+04</td>\n",
       "      <td>9.233700e+03</td>\n",
       "      <td>7.661439e+03</td>\n",
       "      <td>4.255605e+04</td>\n",
       "      <td>8.576016e+03</td>\n",
       "      <td>4.913326e+04</td>\n",
       "      <td>4.607009e+04</td>\n",
       "      <td>1.366735e+04</td>\n",
       "      <td>5.610773e+03</td>\n",
       "      <td>1.634475e+04</td>\n",
       "      <td>2.067274e+04</td>\n",
       "      <td>7.316170e+03</td>\n",
       "      <td>3635.820400</td>\n",
       "      <td>1.622390e+04</td>\n",
       "      <td>1361.683600</td>\n",
       "      <td>4.396371e+03</td>\n",
       "      <td>1.764420e+04</td>\n",
       "    </tr>\n",
       "    <tr>\n",
       "      <th>679</th>\n",
       "      <td>ALIMENTACION FRESCA</td>\n",
       "      <td>3.149787e+07</td>\n",
       "      <td>5.543459e+06</td>\n",
       "      <td>9.989581e+05</td>\n",
       "      <td>7.710707e+05</td>\n",
       "      <td>3.201460e+06</td>\n",
       "      <td>9.440017e+05</td>\n",
       "      <td>4.885870e+06</td>\n",
       "      <td>4.152916e+06</td>\n",
       "      <td>1.296009e+06</td>\n",
       "      <td>5.938309e+05</td>\n",
       "      <td>1.881476e+06</td>\n",
       "      <td>2.098138e+06</td>\n",
       "      <td>8.161133e+05</td>\n",
       "      <td>374168.598008</td>\n",
       "      <td>1.941753e+06</td>\n",
       "      <td>223170.805160</td>\n",
       "      <td>5.220908e+05</td>\n",
       "      <td>1.253386e+06</td>\n",
       "    </tr>\n",
       "    <tr>\n",
       "      <th>680</th>\n",
       "      <td>RESTO ALIMENTACION</td>\n",
       "      <td>4.304573e+07</td>\n",
       "      <td>7.658294e+06</td>\n",
       "      <td>1.225359e+06</td>\n",
       "      <td>1.189417e+06</td>\n",
       "      <td>4.516472e+06</td>\n",
       "      <td>1.279491e+06</td>\n",
       "      <td>7.326878e+06</td>\n",
       "      <td>5.829929e+06</td>\n",
       "      <td>1.736502e+06</td>\n",
       "      <td>9.110428e+05</td>\n",
       "      <td>2.126691e+06</td>\n",
       "      <td>2.479023e+06</td>\n",
       "      <td>1.066913e+06</td>\n",
       "      <td>518046.005826</td>\n",
       "      <td>2.209188e+06</td>\n",
       "      <td>265469.658208</td>\n",
       "      <td>5.424892e+05</td>\n",
       "      <td>2.164529e+06</td>\n",
       "    </tr>\n",
       "  </tbody>\n",
       "</table>\n",
       "<p>681 rows × 19 columns</p>\n",
       "</div>"
      ],
      "text/plain": [
       "           ventas(miles €)        ESPAÑA      CATALUÑA        ARAGÓN  \\\n",
       "0      .TOTAL ALIMENTACION  7.454360e+07  1.320175e+07  2.224317e+06   \n",
       "1             T.HUEVOS KGS  9.861295e+05  1.639197e+05  3.036903e+04   \n",
       "2           T.HUEVOS UNDS.  9.861295e+05  1.639197e+05  3.036903e+04   \n",
       "3     TOTAL HUEVOS GALLINA  9.728149e+05  1.617447e+05  2.958079e+04   \n",
       "4               OTRAS AVES  1.331459e+04  2.175023e+03  7.882403e+02   \n",
       "..                     ...           ...           ...           ...   \n",
       "676   BEBIDAS REFRESCAN.SG  9.164636e+04  9.069116e+03  1.300668e+03   \n",
       "677  HARINAS Y SEMOLAS  SG  2.837211e+04  4.948462e+03  6.996445e+02   \n",
       "678     RESTO PRODUCTOS SG  3.269743e+05  5.687004e+04  9.233700e+03   \n",
       "679    ALIMENTACION FRESCA  3.149787e+07  5.543459e+06  9.989581e+05   \n",
       "680     RESTO ALIMENTACION  4.304573e+07  7.658294e+06  1.225359e+06   \n",
       "\n",
       "     ILLES BALEARS  COMUNITAT VALENCIANA  REGIÓN DE MURCIA     ANDALUCÍA  \\\n",
       "0     1.960488e+06          7.717933e+06      2.223493e+06  1.221275e+07   \n",
       "1     2.298965e+04          1.018576e+05      2.744403e+04  1.650070e+05   \n",
       "2     2.298965e+04          1.018576e+05      2.744403e+04  1.650070e+05   \n",
       "3     2.248252e+04          1.004759e+05      2.708351e+04  1.622625e+05   \n",
       "4     5.071237e+02          1.381782e+03      3.605152e+02  2.744441e+03   \n",
       "..             ...                   ...               ...           ...   \n",
       "676   2.713598e+03          8.505350e+03      3.342454e+03  2.860564e+04   \n",
       "677   1.301831e+03          2.698470e+03      7.500378e+02  3.667858e+03   \n",
       "678   7.661439e+03          4.255605e+04      8.576016e+03  4.913326e+04   \n",
       "679   7.710707e+05          3.201460e+06      9.440017e+05  4.885870e+06   \n",
       "680   1.189417e+06          4.516472e+06      1.279491e+06  7.326878e+06   \n",
       "\n",
       "     COMUNIDAD DE MADRID  CASTILLA - LA MANCHA   EXTREMADURA  CASTILLA Y LEÓN  \\\n",
       "0           9.982845e+06          3.032512e+06  1.504874e+06     4.008167e+06   \n",
       "1           1.290014e+05          3.817307e+04  1.807374e+04     4.957791e+04   \n",
       "2           1.290014e+05          3.817307e+04  1.807374e+04     4.957791e+04   \n",
       "3           1.276378e+05          3.772926e+04  1.784634e+04     4.870107e+04   \n",
       "4           1.363547e+03          4.438068e+02  2.274018e+02     8.768348e+02   \n",
       "..                   ...                   ...           ...              ...   \n",
       "676         1.077867e+04          5.687610e+03  3.111260e+03     3.656060e+03   \n",
       "677         3.922026e+03          1.013646e+03  3.642877e+02     1.183835e+03   \n",
       "678         4.607009e+04          1.366735e+04  5.610773e+03     1.634475e+04   \n",
       "679         4.152916e+06          1.296009e+06  5.938309e+05     1.881476e+06   \n",
       "680         5.829929e+06          1.736502e+06  9.110428e+05     2.126691e+06   \n",
       "\n",
       "          GALICIA  PRINCIPADO DE ASTURIAS      CANTABRIA    PAIS VASCO  \\\n",
       "0    4.577162e+06            1.883026e+06  892214.603834  4.150941e+06   \n",
       "1    7.090107e+04            2.481321e+04   13300.359453  6.018436e+04   \n",
       "2    7.090107e+04            2.481321e+04   13300.359453  6.018436e+04   \n",
       "3    7.028891e+04            2.474811e+04   13218.103000  5.892545e+04   \n",
       "4    6.121552e+02            6.510597e+01      82.256453  1.258918e+03   \n",
       "..            ...                     ...            ...           ...   \n",
       "676  3.096026e+03            1.701523e+03     528.465990  1.771213e+03   \n",
       "677  1.732564e+03            1.050088e+03     281.552125  9.718398e+02   \n",
       "678  2.067274e+04            7.316170e+03    3635.820400  1.622390e+04   \n",
       "679  2.098138e+06            8.161133e+05  374168.598008  1.941753e+06   \n",
       "680  2.479023e+06            1.066913e+06  518046.005826  2.209188e+06   \n",
       "\n",
       "          LA RIOJA  C. FORAL DE NAVARRA      CANARIAS  \n",
       "0    488640.463368         1.064580e+06  3.417914e+06  \n",
       "1      6246.450495         1.506794e+04  4.920303e+04  \n",
       "2      6246.450495         1.506794e+04  4.920303e+04  \n",
       "3      6158.339500         1.492888e+04  4.900276e+04  \n",
       "4        88.110995         1.390559e+02  2.002651e+02  \n",
       "..             ...                  ...           ...  \n",
       "676     574.869540         2.505109e+02  6.953327e+03  \n",
       "677     185.405280         3.140422e+02  3.286523e+03  \n",
       "678    1361.683600         4.396371e+03  1.764420e+04  \n",
       "679  223170.805160         5.220908e+05  1.253386e+06  \n",
       "680  265469.658208         5.424892e+05  2.164529e+06  \n",
       "\n",
       "[681 rows x 19 columns]"
      ]
     },
     "execution_count": 158,
     "metadata": {},
     "output_type": "execute_result"
    }
   ],
   "source": [
    "panel21_kg"
   ]
  },
  {
   "cell_type": "code",
   "execution_count": 159,
   "metadata": {},
   "outputs": [],
   "source": [
    "#importo los datos para trabajar\n",
    "panel21_CCAA = pd.read_csv('/Users/Ade/OneDrive/Escritorio/EDA/datos consumo/panel21_CCAA.csv')\n",
    "panel20_CCAA = pd.read_csv('/Users/Ade/OneDrive/Escritorio/EDA/datos consumo/panel20_CCAA.csv')\n",
    "panel19_CCAA = pd.read_csv('/Users/Ade/OneDrive/Escritorio/EDA/datos consumo/panel19_CCAA.csv')"
   ]
  },
  {
   "cell_type": "code",
   "execution_count": 193,
   "metadata": {},
   "outputs": [
    {
     "data": {
      "text/html": [
       "<div>\n",
       "<style scoped>\n",
       "    .dataframe tbody tr th:only-of-type {\n",
       "        vertical-align: middle;\n",
       "    }\n",
       "\n",
       "    .dataframe tbody tr th {\n",
       "        vertical-align: top;\n",
       "    }\n",
       "\n",
       "    .dataframe thead th {\n",
       "        text-align: right;\n",
       "    }\n",
       "</style>\n",
       "<table border=\"1\" class=\"dataframe\">\n",
       "  <thead>\n",
       "    <tr style=\"text-align: right;\">\n",
       "      <th></th>\n",
       "      <th>Año</th>\n",
       "      <th>CATALUÑA</th>\n",
       "      <th>ARAGÓN</th>\n",
       "      <th>ILLES BALEARS</th>\n",
       "      <th>COMUNITAT VALENCIANA</th>\n",
       "      <th>REGIÓN DE MURCIA</th>\n",
       "      <th>ANDALUCÍA</th>\n",
       "      <th>COMUNIDAD DE MADRID</th>\n",
       "      <th>CASTILLA - LA MANCHA</th>\n",
       "      <th>EXTREMADURA</th>\n",
       "      <th>CASTILLA Y LEÓN</th>\n",
       "      <th>GALICIA</th>\n",
       "      <th>PRINCIPADO DE ASTURIAS</th>\n",
       "      <th>CANTABRIA</th>\n",
       "      <th>PAIS VASCO</th>\n",
       "      <th>LA RIOJA</th>\n",
       "      <th>C. FORAL DE NAVARRA</th>\n",
       "      <th>CANARIAS</th>\n",
       "    </tr>\n",
       "  </thead>\n",
       "  <tbody>\n",
       "    <tr>\n",
       "      <th>0</th>\n",
       "      <td>2021</td>\n",
       "      <td>24785.3368</td>\n",
       "      <td>5897.3986</td>\n",
       "      <td>3089.12619</td>\n",
       "      <td>11334.5155</td>\n",
       "      <td>3376.63014</td>\n",
       "      <td>28513.9313</td>\n",
       "      <td>23640.2594</td>\n",
       "      <td>6014.007</td>\n",
       "      <td>3541.3682</td>\n",
       "      <td>8776.0117</td>\n",
       "      <td>3659.49205</td>\n",
       "      <td>2569.46837</td>\n",
       "      <td>1700.3784</td>\n",
       "      <td>8525.8415</td>\n",
       "      <td>1078.99886</td>\n",
       "      <td>1764.70445</td>\n",
       "      <td>5005.2866</td>\n",
       "    </tr>\n",
       "  </tbody>\n",
       "</table>\n",
       "</div>"
      ],
      "text/plain": [
       "    Año    CATALUÑA     ARAGÓN  ILLES BALEARS  COMUNITAT VALENCIANA  \\\n",
       "0  2021  24785.3368  5897.3986     3089.12619            11334.5155   \n",
       "\n",
       "   REGIÓN DE MURCIA   ANDALUCÍA  COMUNIDAD DE MADRID  CASTILLA - LA MANCHA  \\\n",
       "0        3376.63014  28513.9313           23640.2594              6014.007   \n",
       "\n",
       "   EXTREMADURA  CASTILLA Y LEÓN     GALICIA  PRINCIPADO DE ASTURIAS  \\\n",
       "0    3541.3682        8776.0117  3659.49205              2569.46837   \n",
       "\n",
       "   CANTABRIA  PAIS VASCO    LA RIOJA  C. FORAL DE NAVARRA   CANARIAS  \n",
       "0  1700.3784   8525.8415  1078.99886           1764.70445  5005.2866  "
      ]
     },
     "execution_count": 193,
     "metadata": {},
     "output_type": "execute_result"
    }
   ],
   "source": [
    "#describo las coluimnas para uniofiar los tres archivos e incluyo el año\n",
    "panel21_CCAA.columns = ['Año', 'CATALUÑA', 'ARAGÓN', 'ILLES BALEARS',\n",
    "       'COMUNITAT VALENCIANA', 'REGIÓN DE MURCIA', 'ANDALUCÍA',\n",
    "       'COMUNIDAD DE MADRID', 'CASTILLA - LA MANCHA', 'EXTREMADURA',\n",
    "       'CASTILLA Y LEÓN', 'GALICIA', 'PRINCIPADO DE ASTURIAS', 'CANTABRIA',\n",
    "       'PAIS VASCO', 'LA RIOJA', 'C. FORAL DE NAVARRA', 'CANARIAS']\n",
    "panel21_CCAA.replace({\"TORTILLAS REFRIGERADTORTILLAS REFRIGE.SG\": \"2021\"}, inplace=True)\n",
    "panel21_CCAA"
   ]
  },
  {
   "cell_type": "code",
   "execution_count": 194,
   "metadata": {},
   "outputs": [
    {
     "data": {
      "text/html": [
       "<div>\n",
       "<style scoped>\n",
       "    .dataframe tbody tr th:only-of-type {\n",
       "        vertical-align: middle;\n",
       "    }\n",
       "\n",
       "    .dataframe tbody tr th {\n",
       "        vertical-align: top;\n",
       "    }\n",
       "\n",
       "    .dataframe thead th {\n",
       "        text-align: right;\n",
       "    }\n",
       "</style>\n",
       "<table border=\"1\" class=\"dataframe\">\n",
       "  <thead>\n",
       "    <tr style=\"text-align: right;\">\n",
       "      <th></th>\n",
       "      <th>Año</th>\n",
       "      <th>CATALUÑA</th>\n",
       "      <th>ARAGÓN</th>\n",
       "      <th>ILLES BALEARS</th>\n",
       "      <th>COMUNITAT VALENCIANA</th>\n",
       "      <th>REGIÓN DE MURCIA</th>\n",
       "      <th>ANDALUCÍA</th>\n",
       "      <th>COMUNIDAD DE MADRID</th>\n",
       "      <th>CASTILLA - LA MANCHA</th>\n",
       "      <th>EXTREMADURA</th>\n",
       "      <th>CASTILLA Y LEÓN</th>\n",
       "      <th>GALICIA</th>\n",
       "      <th>PRINCIPADO DE ASTURIAS</th>\n",
       "      <th>CANTABRIA</th>\n",
       "      <th>PAIS VASCO</th>\n",
       "      <th>LA RIOJA</th>\n",
       "      <th>C. FORAL DE NAVARRA</th>\n",
       "      <th>CANARIAS</th>\n",
       "    </tr>\n",
       "  </thead>\n",
       "  <tbody>\n",
       "    <tr>\n",
       "      <th>0</th>\n",
       "      <td>2020</td>\n",
       "      <td>20617.8176</td>\n",
       "      <td>4796.4761</td>\n",
       "      <td>2699.8065</td>\n",
       "      <td>9282.4089</td>\n",
       "      <td>3524.32453</td>\n",
       "      <td>22637.3333</td>\n",
       "      <td>19836.0152</td>\n",
       "      <td>4956.5692</td>\n",
       "      <td>2312.3992</td>\n",
       "      <td>6949.3323</td>\n",
       "      <td>3055.74758</td>\n",
       "      <td>1951.70045</td>\n",
       "      <td>1177.19265</td>\n",
       "      <td>4993.3937</td>\n",
       "      <td>933.357585</td>\n",
       "      <td>1846.2318</td>\n",
       "      <td>4524.22295</td>\n",
       "    </tr>\n",
       "  </tbody>\n",
       "</table>\n",
       "</div>"
      ],
      "text/plain": [
       "    Año    CATALUÑA     ARAGÓN  ILLES BALEARS  COMUNITAT VALENCIANA  \\\n",
       "0  2020  20617.8176  4796.4761      2699.8065             9282.4089   \n",
       "\n",
       "   REGIÓN DE MURCIA   ANDALUCÍA  COMUNIDAD DE MADRID  CASTILLA - LA MANCHA  \\\n",
       "0        3524.32453  22637.3333           19836.0152             4956.5692   \n",
       "\n",
       "   EXTREMADURA  CASTILLA Y LEÓN     GALICIA  PRINCIPADO DE ASTURIAS  \\\n",
       "0    2312.3992        6949.3323  3055.74758              1951.70045   \n",
       "\n",
       "    CANTABRIA  PAIS VASCO    LA RIOJA  C. FORAL DE NAVARRA    CANARIAS  \n",
       "0  1177.19265   4993.3937  933.357585            1846.2318  4524.22295  "
      ]
     },
     "execution_count": 194,
     "metadata": {},
     "output_type": "execute_result"
    }
   ],
   "source": [
    "panel20_CCAA.columns = ['Año', 'CATALUÑA', 'ARAGÓN', 'ILLES BALEARS',\n",
    "       'COMUNITAT VALENCIANA', 'REGIÓN DE MURCIA', 'ANDALUCÍA',\n",
    "       'COMUNIDAD DE MADRID', 'CASTILLA - LA MANCHA', 'EXTREMADURA',\n",
    "       'CASTILLA Y LEÓN', 'GALICIA', 'PRINCIPADO DE ASTURIAS', 'CANTABRIA',\n",
    "       'PAIS VASCO', 'LA RIOJA', 'C. FORAL DE NAVARRA', 'CANARIAS']\n",
    "panel20_CCAA.replace({\"TORTILLAS REFRIGERADTORTILLAS REFRIGE.SG\": \"2020\"}, inplace=True)\n",
    "panel20_CCAA"
   ]
  },
  {
   "cell_type": "code",
   "execution_count": 195,
   "metadata": {},
   "outputs": [
    {
     "data": {
      "text/html": [
       "<div>\n",
       "<style scoped>\n",
       "    .dataframe tbody tr th:only-of-type {\n",
       "        vertical-align: middle;\n",
       "    }\n",
       "\n",
       "    .dataframe tbody tr th {\n",
       "        vertical-align: top;\n",
       "    }\n",
       "\n",
       "    .dataframe thead th {\n",
       "        text-align: right;\n",
       "    }\n",
       "</style>\n",
       "<table border=\"1\" class=\"dataframe\">\n",
       "  <thead>\n",
       "    <tr style=\"text-align: right;\">\n",
       "      <th></th>\n",
       "      <th>Año</th>\n",
       "      <th>CATALUÑA</th>\n",
       "      <th>ARAGÓN</th>\n",
       "      <th>ILLES BALEARS</th>\n",
       "      <th>COMUNITAT VALENCIANA</th>\n",
       "      <th>REGIÓN DE MURCIA</th>\n",
       "      <th>ANDALUCÍA</th>\n",
       "      <th>COMUNIDAD DE MADRID</th>\n",
       "      <th>CASTILLA - LA MANCHA</th>\n",
       "      <th>EXTREMADURA</th>\n",
       "      <th>CASTILLA Y LEÓN</th>\n",
       "      <th>GALICIA</th>\n",
       "      <th>PRINCIPADO DE ASTURIAS</th>\n",
       "      <th>CANTABRIA</th>\n",
       "      <th>PAIS VASCO</th>\n",
       "      <th>LA RIOJA</th>\n",
       "      <th>C. FORAL DE NAVARRA</th>\n",
       "      <th>CANARIAS</th>\n",
       "    </tr>\n",
       "  </thead>\n",
       "  <tbody>\n",
       "    <tr>\n",
       "      <th>0</th>\n",
       "      <td>2019</td>\n",
       "      <td>12754.8249</td>\n",
       "      <td>2680.0658</td>\n",
       "      <td>1571.36175</td>\n",
       "      <td>5392.3392</td>\n",
       "      <td>1746.36114</td>\n",
       "      <td>15240.337</td>\n",
       "      <td>12239.1256</td>\n",
       "      <td>2345.6232</td>\n",
       "      <td>1330.49318</td>\n",
       "      <td>3307.7258</td>\n",
       "      <td>1188.74653</td>\n",
       "      <td>1075.81386</td>\n",
       "      <td>915.28142</td>\n",
       "      <td>2259.9413</td>\n",
       "      <td>430.48536</td>\n",
       "      <td>1294.34621</td>\n",
       "      <td>3203.1428</td>\n",
       "    </tr>\n",
       "  </tbody>\n",
       "</table>\n",
       "</div>"
      ],
      "text/plain": [
       "    Año    CATALUÑA     ARAGÓN  ILLES BALEARS  COMUNITAT VALENCIANA  \\\n",
       "0  2019  12754.8249  2680.0658     1571.36175             5392.3392   \n",
       "\n",
       "   REGIÓN DE MURCIA  ANDALUCÍA  COMUNIDAD DE MADRID  CASTILLA - LA MANCHA  \\\n",
       "0        1746.36114  15240.337           12239.1256             2345.6232   \n",
       "\n",
       "   EXTREMADURA  CASTILLA Y LEÓN     GALICIA  PRINCIPADO DE ASTURIAS  \\\n",
       "0   1330.49318        3307.7258  1188.74653              1075.81386   \n",
       "\n",
       "   CANTABRIA  PAIS VASCO   LA RIOJA  C. FORAL DE NAVARRA   CANARIAS  \n",
       "0  915.28142   2259.9413  430.48536           1294.34621  3203.1428  "
      ]
     },
     "execution_count": 195,
     "metadata": {},
     "output_type": "execute_result"
    }
   ],
   "source": [
    "panel19_CCAA.columns = ['Año', 'CATALUÑA', 'ARAGÓN', 'ILLES BALEARS',\n",
    "       'COMUNITAT VALENCIANA', 'REGIÓN DE MURCIA', 'ANDALUCÍA',\n",
    "       'COMUNIDAD DE MADRID', 'CASTILLA - LA MANCHA', 'EXTREMADURA',\n",
    "       'CASTILLA Y LEÓN', 'GALICIA', 'PRINCIPADO DE ASTURIAS', 'CANTABRIA',\n",
    "       'PAIS VASCO', 'LA RIOJA', 'C. FORAL DE NAVARRA', 'CANARIAS']\n",
    "panel19_CCAA.replace({\"TORTILLAS REFRIGERADTORTILLAS REFRIGE.SG\": \"2019\"}, inplace=True)\n",
    "\n",
    "panel19_CCAA"
   ]
  },
  {
   "cell_type": "code",
   "execution_count": 196,
   "metadata": {},
   "outputs": [
    {
     "data": {
      "text/html": [
       "<div>\n",
       "<style scoped>\n",
       "    .dataframe tbody tr th:only-of-type {\n",
       "        vertical-align: middle;\n",
       "    }\n",
       "\n",
       "    .dataframe tbody tr th {\n",
       "        vertical-align: top;\n",
       "    }\n",
       "\n",
       "    .dataframe thead th {\n",
       "        text-align: right;\n",
       "    }\n",
       "</style>\n",
       "<table border=\"1\" class=\"dataframe\">\n",
       "  <thead>\n",
       "    <tr style=\"text-align: right;\">\n",
       "      <th></th>\n",
       "      <th>Año</th>\n",
       "      <th>CATALUÑA</th>\n",
       "      <th>ARAGÓN</th>\n",
       "      <th>ILLES BALEARS</th>\n",
       "      <th>COMUNITAT VALENCIANA</th>\n",
       "      <th>REGIÓN DE MURCIA</th>\n",
       "      <th>ANDALUCÍA</th>\n",
       "      <th>COMUNIDAD DE MADRID</th>\n",
       "      <th>CASTILLA - LA MANCHA</th>\n",
       "      <th>EXTREMADURA</th>\n",
       "      <th>CASTILLA Y LEÓN</th>\n",
       "      <th>GALICIA</th>\n",
       "      <th>PRINCIPADO DE ASTURIAS</th>\n",
       "      <th>CANTABRIA</th>\n",
       "      <th>PAIS VASCO</th>\n",
       "      <th>LA RIOJA</th>\n",
       "      <th>C. FORAL DE NAVARRA</th>\n",
       "      <th>CANARIAS</th>\n",
       "    </tr>\n",
       "  </thead>\n",
       "  <tbody>\n",
       "    <tr>\n",
       "      <th>0</th>\n",
       "      <td>2019</td>\n",
       "      <td>12754.8249</td>\n",
       "      <td>2680.0658</td>\n",
       "      <td>1571.36175</td>\n",
       "      <td>5392.3392</td>\n",
       "      <td>1746.36114</td>\n",
       "      <td>15240.3370</td>\n",
       "      <td>12239.1256</td>\n",
       "      <td>2345.6232</td>\n",
       "      <td>1330.49318</td>\n",
       "      <td>3307.7258</td>\n",
       "      <td>1188.74653</td>\n",
       "      <td>1075.81386</td>\n",
       "      <td>915.28142</td>\n",
       "      <td>2259.9413</td>\n",
       "      <td>430.485360</td>\n",
       "      <td>1294.34621</td>\n",
       "      <td>3203.14280</td>\n",
       "    </tr>\n",
       "    <tr>\n",
       "      <th>1</th>\n",
       "      <td>2020</td>\n",
       "      <td>20617.8176</td>\n",
       "      <td>4796.4761</td>\n",
       "      <td>2699.80650</td>\n",
       "      <td>9282.4089</td>\n",
       "      <td>3524.32453</td>\n",
       "      <td>22637.3333</td>\n",
       "      <td>19836.0152</td>\n",
       "      <td>4956.5692</td>\n",
       "      <td>2312.39920</td>\n",
       "      <td>6949.3323</td>\n",
       "      <td>3055.74758</td>\n",
       "      <td>1951.70045</td>\n",
       "      <td>1177.19265</td>\n",
       "      <td>4993.3937</td>\n",
       "      <td>933.357585</td>\n",
       "      <td>1846.23180</td>\n",
       "      <td>4524.22295</td>\n",
       "    </tr>\n",
       "  </tbody>\n",
       "</table>\n",
       "</div>"
      ],
      "text/plain": [
       "    Año    CATALUÑA     ARAGÓN  ILLES BALEARS  COMUNITAT VALENCIANA  \\\n",
       "0  2019  12754.8249  2680.0658     1571.36175             5392.3392   \n",
       "1  2020  20617.8176  4796.4761     2699.80650             9282.4089   \n",
       "\n",
       "   REGIÓN DE MURCIA   ANDALUCÍA  COMUNIDAD DE MADRID  CASTILLA - LA MANCHA  \\\n",
       "0        1746.36114  15240.3370           12239.1256             2345.6232   \n",
       "1        3524.32453  22637.3333           19836.0152             4956.5692   \n",
       "\n",
       "   EXTREMADURA  CASTILLA Y LEÓN     GALICIA  PRINCIPADO DE ASTURIAS  \\\n",
       "0   1330.49318        3307.7258  1188.74653              1075.81386   \n",
       "1   2312.39920        6949.3323  3055.74758              1951.70045   \n",
       "\n",
       "    CANTABRIA  PAIS VASCO    LA RIOJA  C. FORAL DE NAVARRA    CANARIAS  \n",
       "0   915.28142   2259.9413  430.485360           1294.34621  3203.14280  \n",
       "1  1177.19265   4993.3937  933.357585           1846.23180  4524.22295  "
      ]
     },
     "execution_count": 196,
     "metadata": {},
     "output_type": "execute_result"
    }
   ],
   "source": [
    "# Union de los datos del 19 y 20 con append (igualo columnas)\n",
    "panel19_CCAA.columns = panel20_CCAA.columns\n",
    "CCAA19_20 = panel19_CCAA.append(panel20_CCAA, ignore_index=True)\n",
    "CCAA19_20 "
   ]
  },
  {
   "cell_type": "code",
   "execution_count": 200,
   "metadata": {},
   "outputs": [
    {
     "data": {
      "text/html": [
       "<div>\n",
       "<style scoped>\n",
       "    .dataframe tbody tr th:only-of-type {\n",
       "        vertical-align: middle;\n",
       "    }\n",
       "\n",
       "    .dataframe tbody tr th {\n",
       "        vertical-align: top;\n",
       "    }\n",
       "\n",
       "    .dataframe thead th {\n",
       "        text-align: right;\n",
       "    }\n",
       "</style>\n",
       "<table border=\"1\" class=\"dataframe\">\n",
       "  <thead>\n",
       "    <tr style=\"text-align: right;\">\n",
       "      <th></th>\n",
       "      <th>Año</th>\n",
       "      <th>CATALUÑA</th>\n",
       "      <th>ARAGÓN</th>\n",
       "      <th>ILLES BALEARS</th>\n",
       "      <th>COMUNITAT VALENCIANA</th>\n",
       "      <th>REGIÓN DE MURCIA</th>\n",
       "      <th>ANDALUCÍA</th>\n",
       "      <th>COMUNIDAD DE MADRID</th>\n",
       "      <th>CASTILLA - LA MANCHA</th>\n",
       "      <th>EXTREMADURA</th>\n",
       "      <th>CASTILLA Y LEÓN</th>\n",
       "      <th>GALICIA</th>\n",
       "      <th>PRINCIPADO DE ASTURIAS</th>\n",
       "      <th>CANTABRIA</th>\n",
       "      <th>PAIS VASCO</th>\n",
       "      <th>LA RIOJA</th>\n",
       "      <th>C. FORAL DE NAVARRA</th>\n",
       "      <th>CANARIAS</th>\n",
       "    </tr>\n",
       "  </thead>\n",
       "  <tbody>\n",
       "    <tr>\n",
       "      <th>0</th>\n",
       "      <td>2019</td>\n",
       "      <td>12754.8249</td>\n",
       "      <td>2680.0658</td>\n",
       "      <td>1571.36175</td>\n",
       "      <td>5392.3392</td>\n",
       "      <td>1746.36114</td>\n",
       "      <td>15240.3370</td>\n",
       "      <td>12239.1256</td>\n",
       "      <td>2345.6232</td>\n",
       "      <td>1330.49318</td>\n",
       "      <td>3307.7258</td>\n",
       "      <td>1188.74653</td>\n",
       "      <td>1075.81386</td>\n",
       "      <td>915.28142</td>\n",
       "      <td>2259.9413</td>\n",
       "      <td>430.485360</td>\n",
       "      <td>1294.34621</td>\n",
       "      <td>3203.14280</td>\n",
       "    </tr>\n",
       "    <tr>\n",
       "      <th>1</th>\n",
       "      <td>2020</td>\n",
       "      <td>20617.8176</td>\n",
       "      <td>4796.4761</td>\n",
       "      <td>2699.80650</td>\n",
       "      <td>9282.4089</td>\n",
       "      <td>3524.32453</td>\n",
       "      <td>22637.3333</td>\n",
       "      <td>19836.0152</td>\n",
       "      <td>4956.5692</td>\n",
       "      <td>2312.39920</td>\n",
       "      <td>6949.3323</td>\n",
       "      <td>3055.74758</td>\n",
       "      <td>1951.70045</td>\n",
       "      <td>1177.19265</td>\n",
       "      <td>4993.3937</td>\n",
       "      <td>933.357585</td>\n",
       "      <td>1846.23180</td>\n",
       "      <td>4524.22295</td>\n",
       "    </tr>\n",
       "    <tr>\n",
       "      <th>2</th>\n",
       "      <td>2021</td>\n",
       "      <td>24785.3368</td>\n",
       "      <td>5897.3986</td>\n",
       "      <td>3089.12619</td>\n",
       "      <td>11334.5155</td>\n",
       "      <td>3376.63014</td>\n",
       "      <td>28513.9313</td>\n",
       "      <td>23640.2594</td>\n",
       "      <td>6014.0070</td>\n",
       "      <td>3541.36820</td>\n",
       "      <td>8776.0117</td>\n",
       "      <td>3659.49205</td>\n",
       "      <td>2569.46837</td>\n",
       "      <td>1700.37840</td>\n",
       "      <td>8525.8415</td>\n",
       "      <td>1078.998860</td>\n",
       "      <td>1764.70445</td>\n",
       "      <td>5005.28660</td>\n",
       "    </tr>\n",
       "  </tbody>\n",
       "</table>\n",
       "</div>"
      ],
      "text/plain": [
       "    Año    CATALUÑA     ARAGÓN  ILLES BALEARS  COMUNITAT VALENCIANA  \\\n",
       "0  2019  12754.8249  2680.0658     1571.36175             5392.3392   \n",
       "1  2020  20617.8176  4796.4761     2699.80650             9282.4089   \n",
       "2  2021  24785.3368  5897.3986     3089.12619            11334.5155   \n",
       "\n",
       "   REGIÓN DE MURCIA   ANDALUCÍA  COMUNIDAD DE MADRID  CASTILLA - LA MANCHA  \\\n",
       "0        1746.36114  15240.3370           12239.1256             2345.6232   \n",
       "1        3524.32453  22637.3333           19836.0152             4956.5692   \n",
       "2        3376.63014  28513.9313           23640.2594             6014.0070   \n",
       "\n",
       "   EXTREMADURA  CASTILLA Y LEÓN     GALICIA  PRINCIPADO DE ASTURIAS  \\\n",
       "0   1330.49318        3307.7258  1188.74653              1075.81386   \n",
       "1   2312.39920        6949.3323  3055.74758              1951.70045   \n",
       "2   3541.36820        8776.0117  3659.49205              2569.46837   \n",
       "\n",
       "    CANTABRIA  PAIS VASCO     LA RIOJA  C. FORAL DE NAVARRA    CANARIAS  \n",
       "0   915.28142   2259.9413   430.485360           1294.34621  3203.14280  \n",
       "1  1177.19265   4993.3937   933.357585           1846.23180  4524.22295  \n",
       "2  1700.37840   8525.8415  1078.998860           1764.70445  5005.28660  "
      ]
     },
     "execution_count": 200,
     "metadata": {},
     "output_type": "execute_result"
    }
   ],
   "source": [
    "# Union de los datos del 19+20 con el 21 usando append (igualo columnas)\n",
    "CCAA19_20.columns = panel21_CCAA.columns\n",
    "\n",
    "CCAA = CCAA19_20.append(panel21_CCAA, ignore_index=True)\n",
    "CCAA = pd.DataFrame (CCAA)\n",
    "CCAA\n"
   ]
  },
  {
   "cell_type": "code",
   "execution_count": 238,
   "metadata": {},
   "outputs": [
    {
     "data": {
      "text/html": [
       "<div>\n",
       "<style scoped>\n",
       "    .dataframe tbody tr th:only-of-type {\n",
       "        vertical-align: middle;\n",
       "    }\n",
       "\n",
       "    .dataframe tbody tr th {\n",
       "        vertical-align: top;\n",
       "    }\n",
       "\n",
       "    .dataframe thead th {\n",
       "        text-align: right;\n",
       "    }\n",
       "</style>\n",
       "<table border=\"1\" class=\"dataframe\">\n",
       "  <thead>\n",
       "    <tr style=\"text-align: right;\">\n",
       "      <th></th>\n",
       "      <th>Comunidades</th>\n",
       "      <th>Longitud</th>\n",
       "      <th>Latitud</th>\n",
       "      <th>Ventas 2019</th>\n",
       "      <th>Ventas 2020</th>\n",
       "      <th>Ventas 2021</th>\n",
       "    </tr>\n",
       "  </thead>\n",
       "  <tbody>\n",
       "    <tr>\n",
       "      <th>0</th>\n",
       "      <td>CATALUÑA</td>\n",
       "      <td>-4.576198</td>\n",
       "      <td>37.468118</td>\n",
       "      <td>12754.82490</td>\n",
       "      <td>20617.817600</td>\n",
       "      <td>24785.33680</td>\n",
       "    </tr>\n",
       "    <tr>\n",
       "      <th>1</th>\n",
       "      <td>ARAGÓN</td>\n",
       "      <td>-0.665188</td>\n",
       "      <td>41.513925</td>\n",
       "      <td>2680.06580</td>\n",
       "      <td>4796.476100</td>\n",
       "      <td>5897.39860</td>\n",
       "    </tr>\n",
       "    <tr>\n",
       "      <th>2</th>\n",
       "      <td>ILLES BALEARS</td>\n",
       "      <td>-5.993277</td>\n",
       "      <td>43.293722</td>\n",
       "      <td>1571.36175</td>\n",
       "      <td>2699.806500</td>\n",
       "      <td>3089.12619</td>\n",
       "    </tr>\n",
       "    <tr>\n",
       "      <th>3</th>\n",
       "      <td>COMUNITAT VALENCIANA</td>\n",
       "      <td>2.904803</td>\n",
       "      <td>39.573687</td>\n",
       "      <td>5392.33920</td>\n",
       "      <td>9282.408900</td>\n",
       "      <td>11334.51550</td>\n",
       "    </tr>\n",
       "    <tr>\n",
       "      <th>4</th>\n",
       "      <td>REGIÓN DE MURCIA</td>\n",
       "      <td>-15.670344</td>\n",
       "      <td>28.350172</td>\n",
       "      <td>1746.36114</td>\n",
       "      <td>3524.324530</td>\n",
       "      <td>3376.63014</td>\n",
       "    </tr>\n",
       "    <tr>\n",
       "      <th>5</th>\n",
       "      <td>ANDALUCÍA</td>\n",
       "      <td>-4.032126</td>\n",
       "      <td>43.197151</td>\n",
       "      <td>15240.33700</td>\n",
       "      <td>22637.333300</td>\n",
       "      <td>28513.93130</td>\n",
       "    </tr>\n",
       "    <tr>\n",
       "      <th>6</th>\n",
       "      <td>COMUNIDAD DE MADRID</td>\n",
       "      <td>-4.784843</td>\n",
       "      <td>41.752147</td>\n",
       "      <td>12239.12560</td>\n",
       "      <td>19836.015200</td>\n",
       "      <td>23640.25940</td>\n",
       "    </tr>\n",
       "    <tr>\n",
       "      <th>7</th>\n",
       "      <td>CASTILLA - LA MANCHA</td>\n",
       "      <td>-3.006389</td>\n",
       "      <td>39.577578</td>\n",
       "      <td>2345.62320</td>\n",
       "      <td>4956.569200</td>\n",
       "      <td>6014.00700</td>\n",
       "    </tr>\n",
       "    <tr>\n",
       "      <th>8</th>\n",
       "      <td>EXTREMADURA</td>\n",
       "      <td>1.524354</td>\n",
       "      <td>41.797427</td>\n",
       "      <td>1330.49318</td>\n",
       "      <td>2312.399200</td>\n",
       "      <td>3541.36820</td>\n",
       "    </tr>\n",
       "    <tr>\n",
       "      <th>9</th>\n",
       "      <td>CASTILLA Y LEÓN</td>\n",
       "      <td>-0.557814</td>\n",
       "      <td>39.395004</td>\n",
       "      <td>3307.72580</td>\n",
       "      <td>6949.332300</td>\n",
       "      <td>8776.01170</td>\n",
       "    </tr>\n",
       "    <tr>\n",
       "      <th>10</th>\n",
       "      <td>GALICIA</td>\n",
       "      <td>-6.151322</td>\n",
       "      <td>39.187739</td>\n",
       "      <td>1188.74653</td>\n",
       "      <td>3055.747580</td>\n",
       "      <td>3659.49205</td>\n",
       "    </tr>\n",
       "    <tr>\n",
       "      <th>11</th>\n",
       "      <td>PRINCIPADO DE ASTURIAS</td>\n",
       "      <td>-7.910872</td>\n",
       "      <td>42.754747</td>\n",
       "      <td>1075.81386</td>\n",
       "      <td>1951.700450</td>\n",
       "      <td>2569.46837</td>\n",
       "    </tr>\n",
       "    <tr>\n",
       "      <th>12</th>\n",
       "      <td>CANTABRIA</td>\n",
       "      <td>-3.716797</td>\n",
       "      <td>40.494566</td>\n",
       "      <td>915.28142</td>\n",
       "      <td>1177.192650</td>\n",
       "      <td>1700.37840</td>\n",
       "    </tr>\n",
       "    <tr>\n",
       "      <th>13</th>\n",
       "      <td>PAIS VASCO</td>\n",
       "      <td>-1.485375</td>\n",
       "      <td>38.001256</td>\n",
       "      <td>2259.94130</td>\n",
       "      <td>4993.393700</td>\n",
       "      <td>8525.84150</td>\n",
       "    </tr>\n",
       "    <tr>\n",
       "      <th>14</th>\n",
       "      <td>LA RIOJA</td>\n",
       "      <td>-1.647780</td>\n",
       "      <td>42.666646</td>\n",
       "      <td>430.48536</td>\n",
       "      <td>933.357585</td>\n",
       "      <td>1078.99886</td>\n",
       "    </tr>\n",
       "    <tr>\n",
       "      <th>15</th>\n",
       "      <td>C. FORAL DE NAVARRA</td>\n",
       "      <td>-2.616903</td>\n",
       "      <td>43.043251</td>\n",
       "      <td>1294.34621</td>\n",
       "      <td>1846.231800</td>\n",
       "      <td>1764.70445</td>\n",
       "    </tr>\n",
       "    <tr>\n",
       "      <th>16</th>\n",
       "      <td>CANARIAS</td>\n",
       "      <td>-2.516409</td>\n",
       "      <td>42.275299</td>\n",
       "      <td>3203.14280</td>\n",
       "      <td>4524.222950</td>\n",
       "      <td>5005.28660</td>\n",
       "    </tr>\n",
       "  </tbody>\n",
       "</table>\n",
       "</div>"
      ],
      "text/plain": [
       "               Comunidades   Longitud    Latitud  Ventas 2019   Ventas 2020  \\\n",
       "0                 CATALUÑA  -4.576198  37.468118  12754.82490  20617.817600   \n",
       "1                   ARAGÓN  -0.665188  41.513925   2680.06580   4796.476100   \n",
       "2            ILLES BALEARS  -5.993277  43.293722   1571.36175   2699.806500   \n",
       "3     COMUNITAT VALENCIANA   2.904803  39.573687   5392.33920   9282.408900   \n",
       "4         REGIÓN DE MURCIA -15.670344  28.350172   1746.36114   3524.324530   \n",
       "5                ANDALUCÍA  -4.032126  43.197151  15240.33700  22637.333300   \n",
       "6      COMUNIDAD DE MADRID  -4.784843  41.752147  12239.12560  19836.015200   \n",
       "7     CASTILLA - LA MANCHA  -3.006389  39.577578   2345.62320   4956.569200   \n",
       "8              EXTREMADURA   1.524354  41.797427   1330.49318   2312.399200   \n",
       "9          CASTILLA Y LEÓN  -0.557814  39.395004   3307.72580   6949.332300   \n",
       "10                 GALICIA  -6.151322  39.187739   1188.74653   3055.747580   \n",
       "11  PRINCIPADO DE ASTURIAS  -7.910872  42.754747   1075.81386   1951.700450   \n",
       "12               CANTABRIA  -3.716797  40.494566    915.28142   1177.192650   \n",
       "13              PAIS VASCO  -1.485375  38.001256   2259.94130   4993.393700   \n",
       "14                LA RIOJA  -1.647780  42.666646    430.48536    933.357585   \n",
       "15     C. FORAL DE NAVARRA  -2.616903  43.043251   1294.34621   1846.231800   \n",
       "16                CANARIAS  -2.516409  42.275299   3203.14280   4524.222950   \n",
       "\n",
       "    Ventas 2021  \n",
       "0   24785.33680  \n",
       "1    5897.39860  \n",
       "2    3089.12619  \n",
       "3   11334.51550  \n",
       "4    3376.63014  \n",
       "5   28513.93130  \n",
       "6   23640.25940  \n",
       "7    6014.00700  \n",
       "8    3541.36820  \n",
       "9    8776.01170  \n",
       "10   3659.49205  \n",
       "11   2569.46837  \n",
       "12   1700.37840  \n",
       "13   8525.84150  \n",
       "14   1078.99886  \n",
       "15   1764.70445  \n",
       "16   5005.28660  "
      ]
     },
     "execution_count": 238,
     "metadata": {},
     "output_type": "execute_result"
    }
   ],
   "source": [
    "# Datos de las comunidades autónomas\n",
    "comunidades = [\"CATALUÑA\", \"ARAGÓN\", \"ILLES BALEARS\", \"COMUNITAT VALENCIANA\",\n",
    "               \"REGIÓN DE MURCIA\", \"ANDALUCÍA\", \"COMUNIDAD DE MADRID\",\n",
    "               \"CASTILLA - LA MANCHA\", \"EXTREMADURA\", \"CASTILLA Y LEÓN\",\n",
    "               \"GALICIA\", \"PRINCIPADO DE ASTURIAS\", \"CANTABRIA\", \"PAIS VASCO\",\n",
    "               \"LA RIOJA\", \"C. FORAL DE NAVARRA\", \"CANARIAS\"]\n",
    "\n",
    "# Datos de longitud\n",
    "longitud = [-4.57619759928521, -0.665188363252903, -5.99327675127265, 2.90480293180095, -15.6703443955745, -4.03212552496074, -4.78484344919995, -3.00638893532113, 1.5243542306751, -0.557814181118517, -6.15132249142922, -7.91087207569347, -3.71679674194616, -1.48537547094598, -1.64778049397349, -2.61690349909685, -2.5164092074648]\n",
    "\n",
    "# Datos de latitud\n",
    "latitud = [37.4681178570892, 41.5139247146545, 43.2937220828477, 39.5736869066881, 28.3501719765776, 43.1971511768274, 41.7521468123472, 39.577577660364, 41.797427299488, 39.3950044279987, 39.1877394661092, 42.7547472692852, 40.494566396543, 38.0012558520825, 42.6666457550456, 43.0432512002306, 42.2752992031491]\n",
    "         \n",
    "# Datos de ventas por año\n",
    "ventas_2019 = [12754.8249, 2680.0658, 1571.36175, 5392.3392, 1746.36114,\n",
    "              15240.3370, 12239.1256, 2345.6232, 1330.49318, 3307.7258, 1188.74653,\n",
    "              1075.81386, 915.28142, 2259.9413, 430.485360, 1294.34621, 3203.14280]\n",
    "\n",
    "ventas_2020 = [20617.8176, 4796.4761, 2699.80650, 9282.4089, 3524.32453,\n",
    "              22637.3333, 19836.0152, 4956.5692, 2312.39920, 6949.3323, 3055.74758,\n",
    "              1951.70045, 1177.19265, 4993.3937, 933.357585, 1846.23180, 4524.22295]\n",
    "\n",
    "ventas_2021 = [24785.3368, 5897.3986, 3089.12619, 11334.5155, 3376.63014,\n",
    "              28513.9313, 23640.2594, 6014.0070, 3541.36820, 8776.0117, 3659.49205,\n",
    "              2569.46837, 1700.37840, 8525.8415, 1078.998860, 1764.70445, 5005.28660]\n",
    "\n",
    "# Crear el dataframe\n",
    "mapaVentas = pd.DataFrame({'Comunidades': comunidades,'Longitud': longitud, 'Latitud': latitud, 'Ventas 2019': ventas_2019, 'Ventas 2020': ventas_2020, 'Ventas 2021': ventas_2021})\n",
    "\n",
    "mapaVentas"
   ]
  },
  {
   "cell_type": "code",
   "execution_count": 283,
   "metadata": {},
   "outputs": [
    {
     "data": {
      "application/vnd.plotly.v1+json": {
       "config": {
        "plotlyServerURL": "https://plotly.com"
       },
       "data": [
        {
         "hovertemplate": "Ventas 2021=%{marker.color}<br>Comunidades=%{text}<br>Latitud=%{lat}<br>Longitud=%{lon}<extra></extra>",
         "lat": [
          37.4681178570892,
          41.5139247146545,
          43.2937220828477,
          39.5736869066881,
          28.3501719765776,
          43.1971511768274,
          41.7521468123472,
          39.577577660364,
          41.797427299488,
          39.3950044279987,
          39.1877394661092,
          42.7547472692852,
          40.494566396543,
          38.0012558520825,
          42.6666457550456,
          43.0432512002306,
          42.2752992031491
         ],
         "legendgroup": "",
         "lon": [
          -4.57619759928521,
          -0.665188363252903,
          -5.99327675127265,
          2.90480293180095,
          -15.6703443955745,
          -4.03212552496074,
          -4.78484344919995,
          -3.00638893532113,
          1.5243542306751,
          -0.557814181118517,
          -6.15132249142922,
          -7.91087207569347,
          -3.71679674194616,
          -1.48537547094598,
          -1.64778049397349,
          -2.61690349909685,
          -2.5164092074648
         ],
         "marker": {
          "color": [
           24785.3368,
           5897.3986,
           3089.12619,
           11334.5155,
           3376.63014,
           28513.9313,
           23640.2594,
           6014.007,
           3541.3682,
           8776.0117,
           3659.49205,
           2569.46837,
           1700.3784,
           8525.8415,
           1078.99886,
           1764.70445,
           5005.2866
          ],
          "coloraxis": "coloraxis",
          "size": [
           24785.3368,
           5897.3986,
           3089.12619,
           11334.5155,
           3376.63014,
           28513.9313,
           23640.2594,
           6014.007,
           3541.3682,
           8776.0117,
           3659.49205,
           2569.46837,
           1700.3784,
           8525.8415,
           1078.99886,
           1764.70445,
           5005.2866
          ],
          "sizemode": "area",
          "sizeref": 71.28482825
         },
         "mode": "markers+text",
         "name": "",
         "showlegend": false,
         "subplot": "mapbox",
         "text": [
          "CATALUÑA",
          "ARAGÓN",
          "ILLES BALEARS",
          "COMUNITAT VALENCIANA",
          "REGIÓN DE MURCIA",
          "ANDALUCÍA",
          "COMUNIDAD DE MADRID",
          "CASTILLA - LA MANCHA",
          "EXTREMADURA",
          "CASTILLA Y LEÓN",
          "GALICIA",
          "PRINCIPADO DE ASTURIAS",
          "CANTABRIA",
          "PAIS VASCO",
          "LA RIOJA",
          "C. FORAL DE NAVARRA",
          "CANARIAS"
         ],
         "type": "scattermapbox"
        }
       ],
       "layout": {
        "coloraxis": {
         "colorbar": {
          "title": {
           "text": "Ventas 2021"
          }
         },
         "colorscale": [
          [
           0,
           "#0d0887"
          ],
          [
           0.1111111111111111,
           "#46039f"
          ],
          [
           0.2222222222222222,
           "#7201a8"
          ],
          [
           0.3333333333333333,
           "#9c179e"
          ],
          [
           0.4444444444444444,
           "#bd3786"
          ],
          [
           0.5555555555555556,
           "#d8576b"
          ],
          [
           0.6666666666666666,
           "#ed7953"
          ],
          [
           0.7777777777777778,
           "#fb9f3a"
          ],
          [
           0.8888888888888888,
           "#fdca26"
          ],
          [
           1,
           "#f0f921"
          ]
         ]
        },
        "legend": {
         "itemsizing": "constant",
         "tracegroupgap": 0
        },
        "mapbox": {
         "center": {
          "lat": 40.25543741513691,
          "lon": -3.5824989422387956
         },
         "domain": {
          "x": [
           0,
           1
          ],
          "y": [
           0,
           1
          ]
         },
         "style": "carto-positron",
         "zoom": 4.4
        },
        "margin": {
         "t": 60
        },
        "template": {
         "data": {
          "bar": [
           {
            "error_x": {
             "color": "#2a3f5f"
            },
            "error_y": {
             "color": "#2a3f5f"
            },
            "marker": {
             "line": {
              "color": "#E5ECF6",
              "width": 0.5
             },
             "pattern": {
              "fillmode": "overlay",
              "size": 10,
              "solidity": 0.2
             }
            },
            "type": "bar"
           }
          ],
          "barpolar": [
           {
            "marker": {
             "line": {
              "color": "#E5ECF6",
              "width": 0.5
             },
             "pattern": {
              "fillmode": "overlay",
              "size": 10,
              "solidity": 0.2
             }
            },
            "type": "barpolar"
           }
          ],
          "carpet": [
           {
            "aaxis": {
             "endlinecolor": "#2a3f5f",
             "gridcolor": "white",
             "linecolor": "white",
             "minorgridcolor": "white",
             "startlinecolor": "#2a3f5f"
            },
            "baxis": {
             "endlinecolor": "#2a3f5f",
             "gridcolor": "white",
             "linecolor": "white",
             "minorgridcolor": "white",
             "startlinecolor": "#2a3f5f"
            },
            "type": "carpet"
           }
          ],
          "choropleth": [
           {
            "colorbar": {
             "outlinewidth": 0,
             "ticks": ""
            },
            "type": "choropleth"
           }
          ],
          "contour": [
           {
            "colorbar": {
             "outlinewidth": 0,
             "ticks": ""
            },
            "colorscale": [
             [
              0,
              "#0d0887"
             ],
             [
              0.1111111111111111,
              "#46039f"
             ],
             [
              0.2222222222222222,
              "#7201a8"
             ],
             [
              0.3333333333333333,
              "#9c179e"
             ],
             [
              0.4444444444444444,
              "#bd3786"
             ],
             [
              0.5555555555555556,
              "#d8576b"
             ],
             [
              0.6666666666666666,
              "#ed7953"
             ],
             [
              0.7777777777777778,
              "#fb9f3a"
             ],
             [
              0.8888888888888888,
              "#fdca26"
             ],
             [
              1,
              "#f0f921"
             ]
            ],
            "type": "contour"
           }
          ],
          "contourcarpet": [
           {
            "colorbar": {
             "outlinewidth": 0,
             "ticks": ""
            },
            "type": "contourcarpet"
           }
          ],
          "heatmap": [
           {
            "colorbar": {
             "outlinewidth": 0,
             "ticks": ""
            },
            "colorscale": [
             [
              0,
              "#0d0887"
             ],
             [
              0.1111111111111111,
              "#46039f"
             ],
             [
              0.2222222222222222,
              "#7201a8"
             ],
             [
              0.3333333333333333,
              "#9c179e"
             ],
             [
              0.4444444444444444,
              "#bd3786"
             ],
             [
              0.5555555555555556,
              "#d8576b"
             ],
             [
              0.6666666666666666,
              "#ed7953"
             ],
             [
              0.7777777777777778,
              "#fb9f3a"
             ],
             [
              0.8888888888888888,
              "#fdca26"
             ],
             [
              1,
              "#f0f921"
             ]
            ],
            "type": "heatmap"
           }
          ],
          "heatmapgl": [
           {
            "colorbar": {
             "outlinewidth": 0,
             "ticks": ""
            },
            "colorscale": [
             [
              0,
              "#0d0887"
             ],
             [
              0.1111111111111111,
              "#46039f"
             ],
             [
              0.2222222222222222,
              "#7201a8"
             ],
             [
              0.3333333333333333,
              "#9c179e"
             ],
             [
              0.4444444444444444,
              "#bd3786"
             ],
             [
              0.5555555555555556,
              "#d8576b"
             ],
             [
              0.6666666666666666,
              "#ed7953"
             ],
             [
              0.7777777777777778,
              "#fb9f3a"
             ],
             [
              0.8888888888888888,
              "#fdca26"
             ],
             [
              1,
              "#f0f921"
             ]
            ],
            "type": "heatmapgl"
           }
          ],
          "histogram": [
           {
            "marker": {
             "pattern": {
              "fillmode": "overlay",
              "size": 10,
              "solidity": 0.2
             }
            },
            "type": "histogram"
           }
          ],
          "histogram2d": [
           {
            "colorbar": {
             "outlinewidth": 0,
             "ticks": ""
            },
            "colorscale": [
             [
              0,
              "#0d0887"
             ],
             [
              0.1111111111111111,
              "#46039f"
             ],
             [
              0.2222222222222222,
              "#7201a8"
             ],
             [
              0.3333333333333333,
              "#9c179e"
             ],
             [
              0.4444444444444444,
              "#bd3786"
             ],
             [
              0.5555555555555556,
              "#d8576b"
             ],
             [
              0.6666666666666666,
              "#ed7953"
             ],
             [
              0.7777777777777778,
              "#fb9f3a"
             ],
             [
              0.8888888888888888,
              "#fdca26"
             ],
             [
              1,
              "#f0f921"
             ]
            ],
            "type": "histogram2d"
           }
          ],
          "histogram2dcontour": [
           {
            "colorbar": {
             "outlinewidth": 0,
             "ticks": ""
            },
            "colorscale": [
             [
              0,
              "#0d0887"
             ],
             [
              0.1111111111111111,
              "#46039f"
             ],
             [
              0.2222222222222222,
              "#7201a8"
             ],
             [
              0.3333333333333333,
              "#9c179e"
             ],
             [
              0.4444444444444444,
              "#bd3786"
             ],
             [
              0.5555555555555556,
              "#d8576b"
             ],
             [
              0.6666666666666666,
              "#ed7953"
             ],
             [
              0.7777777777777778,
              "#fb9f3a"
             ],
             [
              0.8888888888888888,
              "#fdca26"
             ],
             [
              1,
              "#f0f921"
             ]
            ],
            "type": "histogram2dcontour"
           }
          ],
          "mesh3d": [
           {
            "colorbar": {
             "outlinewidth": 0,
             "ticks": ""
            },
            "type": "mesh3d"
           }
          ],
          "parcoords": [
           {
            "line": {
             "colorbar": {
              "outlinewidth": 0,
              "ticks": ""
             }
            },
            "type": "parcoords"
           }
          ],
          "pie": [
           {
            "automargin": true,
            "type": "pie"
           }
          ],
          "scatter": [
           {
            "fillpattern": {
             "fillmode": "overlay",
             "size": 10,
             "solidity": 0.2
            },
            "type": "scatter"
           }
          ],
          "scatter3d": [
           {
            "line": {
             "colorbar": {
              "outlinewidth": 0,
              "ticks": ""
             }
            },
            "marker": {
             "colorbar": {
              "outlinewidth": 0,
              "ticks": ""
             }
            },
            "type": "scatter3d"
           }
          ],
          "scattercarpet": [
           {
            "marker": {
             "colorbar": {
              "outlinewidth": 0,
              "ticks": ""
             }
            },
            "type": "scattercarpet"
           }
          ],
          "scattergeo": [
           {
            "marker": {
             "colorbar": {
              "outlinewidth": 0,
              "ticks": ""
             }
            },
            "type": "scattergeo"
           }
          ],
          "scattergl": [
           {
            "marker": {
             "colorbar": {
              "outlinewidth": 0,
              "ticks": ""
             }
            },
            "type": "scattergl"
           }
          ],
          "scattermapbox": [
           {
            "marker": {
             "colorbar": {
              "outlinewidth": 0,
              "ticks": ""
             }
            },
            "type": "scattermapbox"
           }
          ],
          "scatterpolar": [
           {
            "marker": {
             "colorbar": {
              "outlinewidth": 0,
              "ticks": ""
             }
            },
            "type": "scatterpolar"
           }
          ],
          "scatterpolargl": [
           {
            "marker": {
             "colorbar": {
              "outlinewidth": 0,
              "ticks": ""
             }
            },
            "type": "scatterpolargl"
           }
          ],
          "scatterternary": [
           {
            "marker": {
             "colorbar": {
              "outlinewidth": 0,
              "ticks": ""
             }
            },
            "type": "scatterternary"
           }
          ],
          "surface": [
           {
            "colorbar": {
             "outlinewidth": 0,
             "ticks": ""
            },
            "colorscale": [
             [
              0,
              "#0d0887"
             ],
             [
              0.1111111111111111,
              "#46039f"
             ],
             [
              0.2222222222222222,
              "#7201a8"
             ],
             [
              0.3333333333333333,
              "#9c179e"
             ],
             [
              0.4444444444444444,
              "#bd3786"
             ],
             [
              0.5555555555555556,
              "#d8576b"
             ],
             [
              0.6666666666666666,
              "#ed7953"
             ],
             [
              0.7777777777777778,
              "#fb9f3a"
             ],
             [
              0.8888888888888888,
              "#fdca26"
             ],
             [
              1,
              "#f0f921"
             ]
            ],
            "type": "surface"
           }
          ],
          "table": [
           {
            "cells": {
             "fill": {
              "color": "#EBF0F8"
             },
             "line": {
              "color": "white"
             }
            },
            "header": {
             "fill": {
              "color": "#C8D4E3"
             },
             "line": {
              "color": "white"
             }
            },
            "type": "table"
           }
          ]
         },
         "layout": {
          "annotationdefaults": {
           "arrowcolor": "#2a3f5f",
           "arrowhead": 0,
           "arrowwidth": 1
          },
          "autotypenumbers": "strict",
          "coloraxis": {
           "colorbar": {
            "outlinewidth": 0,
            "ticks": ""
           }
          },
          "colorscale": {
           "diverging": [
            [
             0,
             "#8e0152"
            ],
            [
             0.1,
             "#c51b7d"
            ],
            [
             0.2,
             "#de77ae"
            ],
            [
             0.3,
             "#f1b6da"
            ],
            [
             0.4,
             "#fde0ef"
            ],
            [
             0.5,
             "#f7f7f7"
            ],
            [
             0.6,
             "#e6f5d0"
            ],
            [
             0.7,
             "#b8e186"
            ],
            [
             0.8,
             "#7fbc41"
            ],
            [
             0.9,
             "#4d9221"
            ],
            [
             1,
             "#276419"
            ]
           ],
           "sequential": [
            [
             0,
             "#0d0887"
            ],
            [
             0.1111111111111111,
             "#46039f"
            ],
            [
             0.2222222222222222,
             "#7201a8"
            ],
            [
             0.3333333333333333,
             "#9c179e"
            ],
            [
             0.4444444444444444,
             "#bd3786"
            ],
            [
             0.5555555555555556,
             "#d8576b"
            ],
            [
             0.6666666666666666,
             "#ed7953"
            ],
            [
             0.7777777777777778,
             "#fb9f3a"
            ],
            [
             0.8888888888888888,
             "#fdca26"
            ],
            [
             1,
             "#f0f921"
            ]
           ],
           "sequentialminus": [
            [
             0,
             "#0d0887"
            ],
            [
             0.1111111111111111,
             "#46039f"
            ],
            [
             0.2222222222222222,
             "#7201a8"
            ],
            [
             0.3333333333333333,
             "#9c179e"
            ],
            [
             0.4444444444444444,
             "#bd3786"
            ],
            [
             0.5555555555555556,
             "#d8576b"
            ],
            [
             0.6666666666666666,
             "#ed7953"
            ],
            [
             0.7777777777777778,
             "#fb9f3a"
            ],
            [
             0.8888888888888888,
             "#fdca26"
            ],
            [
             1,
             "#f0f921"
            ]
           ]
          },
          "colorway": [
           "#636efa",
           "#EF553B",
           "#00cc96",
           "#ab63fa",
           "#FFA15A",
           "#19d3f3",
           "#FF6692",
           "#B6E880",
           "#FF97FF",
           "#FECB52"
          ],
          "font": {
           "color": "#2a3f5f"
          },
          "geo": {
           "bgcolor": "white",
           "lakecolor": "white",
           "landcolor": "#E5ECF6",
           "showlakes": true,
           "showland": true,
           "subunitcolor": "white"
          },
          "hoverlabel": {
           "align": "left"
          },
          "hovermode": "closest",
          "mapbox": {
           "style": "light"
          },
          "paper_bgcolor": "white",
          "plot_bgcolor": "#E5ECF6",
          "polar": {
           "angularaxis": {
            "gridcolor": "white",
            "linecolor": "white",
            "ticks": ""
           },
           "bgcolor": "#E5ECF6",
           "radialaxis": {
            "gridcolor": "white",
            "linecolor": "white",
            "ticks": ""
           }
          },
          "scene": {
           "xaxis": {
            "backgroundcolor": "#E5ECF6",
            "gridcolor": "white",
            "gridwidth": 2,
            "linecolor": "white",
            "showbackground": true,
            "ticks": "",
            "zerolinecolor": "white"
           },
           "yaxis": {
            "backgroundcolor": "#E5ECF6",
            "gridcolor": "white",
            "gridwidth": 2,
            "linecolor": "white",
            "showbackground": true,
            "ticks": "",
            "zerolinecolor": "white"
           },
           "zaxis": {
            "backgroundcolor": "#E5ECF6",
            "gridcolor": "white",
            "gridwidth": 2,
            "linecolor": "white",
            "showbackground": true,
            "ticks": "",
            "zerolinecolor": "white"
           }
          },
          "shapedefaults": {
           "line": {
            "color": "#2a3f5f"
           }
          },
          "ternary": {
           "aaxis": {
            "gridcolor": "white",
            "linecolor": "white",
            "ticks": ""
           },
           "baxis": {
            "gridcolor": "white",
            "linecolor": "white",
            "ticks": ""
           },
           "bgcolor": "#E5ECF6",
           "caxis": {
            "gridcolor": "white",
            "linecolor": "white",
            "ticks": ""
           }
          },
          "title": {
           "x": 0.05
          },
          "xaxis": {
           "automargin": true,
           "gridcolor": "white",
           "linecolor": "white",
           "ticks": "",
           "title": {
            "standoff": 15
           },
           "zerolinecolor": "white",
           "zerolinewidth": 2
          },
          "yaxis": {
           "automargin": true,
           "gridcolor": "white",
           "linecolor": "white",
           "ticks": "",
           "title": {
            "standoff": 15
           },
           "zerolinecolor": "white",
           "zerolinewidth": 2
          }
         }
        }
       }
      }
     },
     "metadata": {},
     "output_type": "display_data"
    },
    {
     "data": {
      "application/vnd.plotly.v1+json": {
       "config": {
        "plotlyServerURL": "https://plotly.com"
       },
       "data": [
        {
         "hovertemplate": "Ventas 2020=%{marker.color}<br>Comunidades=%{text}<br>Latitud=%{lat}<br>Longitud=%{lon}<extra></extra>",
         "lat": [
          37.4681178570892,
          41.5139247146545,
          43.2937220828477,
          39.5736869066881,
          28.3501719765776,
          43.1971511768274,
          41.7521468123472,
          39.577577660364,
          41.797427299488,
          39.3950044279987,
          39.1877394661092,
          42.7547472692852,
          40.494566396543,
          38.0012558520825,
          42.6666457550456,
          43.0432512002306,
          42.2752992031491
         ],
         "legendgroup": "",
         "lon": [
          -4.57619759928521,
          -0.665188363252903,
          -5.99327675127265,
          2.90480293180095,
          -15.6703443955745,
          -4.03212552496074,
          -4.78484344919995,
          -3.00638893532113,
          1.5243542306751,
          -0.557814181118517,
          -6.15132249142922,
          -7.91087207569347,
          -3.71679674194616,
          -1.48537547094598,
          -1.64778049397349,
          -2.61690349909685,
          -2.5164092074648
         ],
         "marker": {
          "color": [
           20617.8176,
           4796.4761,
           2699.8065,
           9282.4089,
           3524.32453,
           22637.3333,
           19836.0152,
           4956.5692,
           2312.3992,
           6949.3323,
           3055.74758,
           1951.70045,
           1177.19265,
           4993.3937,
           933.357585,
           1846.2318,
           4524.22295
          ],
          "coloraxis": "coloraxis",
          "size": [
           20617.8176,
           4796.4761,
           2699.8065,
           9282.4089,
           3524.32453,
           22637.3333,
           19836.0152,
           4956.5692,
           2312.3992,
           6949.3323,
           3055.74758,
           1951.70045,
           1177.19265,
           4993.3937,
           933.357585,
           1846.2318,
           4524.22295
          ],
          "sizemode": "area",
          "sizeref": 56.59333324999999
         },
         "mode": "markers+text",
         "name": "",
         "showlegend": false,
         "subplot": "mapbox",
         "text": [
          "CATALUÑA",
          "ARAGÓN",
          "ILLES BALEARS",
          "COMUNITAT VALENCIANA",
          "REGIÓN DE MURCIA",
          "ANDALUCÍA",
          "COMUNIDAD DE MADRID",
          "CASTILLA - LA MANCHA",
          "EXTREMADURA",
          "CASTILLA Y LEÓN",
          "GALICIA",
          "PRINCIPADO DE ASTURIAS",
          "CANTABRIA",
          "PAIS VASCO",
          "LA RIOJA",
          "C. FORAL DE NAVARRA",
          "CANARIAS"
         ],
         "type": "scattermapbox"
        }
       ],
       "layout": {
        "coloraxis": {
         "colorbar": {
          "title": {
           "text": "Ventas 2020"
          }
         },
         "colorscale": [
          [
           0,
           "#0d0887"
          ],
          [
           0.1111111111111111,
           "#46039f"
          ],
          [
           0.2222222222222222,
           "#7201a8"
          ],
          [
           0.3333333333333333,
           "#9c179e"
          ],
          [
           0.4444444444444444,
           "#bd3786"
          ],
          [
           0.5555555555555556,
           "#d8576b"
          ],
          [
           0.6666666666666666,
           "#ed7953"
          ],
          [
           0.7777777777777778,
           "#fb9f3a"
          ],
          [
           0.8888888888888888,
           "#fdca26"
          ],
          [
           1,
           "#f0f921"
          ]
         ]
        },
        "legend": {
         "itemsizing": "constant",
         "tracegroupgap": 0
        },
        "mapbox": {
         "center": {
          "lat": 40.25543741513691,
          "lon": -3.5824989422387956
         },
         "domain": {
          "x": [
           0,
           1
          ],
          "y": [
           0,
           1
          ]
         },
         "style": "carto-positron",
         "zoom": 4.4
        },
        "margin": {
         "t": 60
        },
        "template": {
         "data": {
          "bar": [
           {
            "error_x": {
             "color": "#2a3f5f"
            },
            "error_y": {
             "color": "#2a3f5f"
            },
            "marker": {
             "line": {
              "color": "#E5ECF6",
              "width": 0.5
             },
             "pattern": {
              "fillmode": "overlay",
              "size": 10,
              "solidity": 0.2
             }
            },
            "type": "bar"
           }
          ],
          "barpolar": [
           {
            "marker": {
             "line": {
              "color": "#E5ECF6",
              "width": 0.5
             },
             "pattern": {
              "fillmode": "overlay",
              "size": 10,
              "solidity": 0.2
             }
            },
            "type": "barpolar"
           }
          ],
          "carpet": [
           {
            "aaxis": {
             "endlinecolor": "#2a3f5f",
             "gridcolor": "white",
             "linecolor": "white",
             "minorgridcolor": "white",
             "startlinecolor": "#2a3f5f"
            },
            "baxis": {
             "endlinecolor": "#2a3f5f",
             "gridcolor": "white",
             "linecolor": "white",
             "minorgridcolor": "white",
             "startlinecolor": "#2a3f5f"
            },
            "type": "carpet"
           }
          ],
          "choropleth": [
           {
            "colorbar": {
             "outlinewidth": 0,
             "ticks": ""
            },
            "type": "choropleth"
           }
          ],
          "contour": [
           {
            "colorbar": {
             "outlinewidth": 0,
             "ticks": ""
            },
            "colorscale": [
             [
              0,
              "#0d0887"
             ],
             [
              0.1111111111111111,
              "#46039f"
             ],
             [
              0.2222222222222222,
              "#7201a8"
             ],
             [
              0.3333333333333333,
              "#9c179e"
             ],
             [
              0.4444444444444444,
              "#bd3786"
             ],
             [
              0.5555555555555556,
              "#d8576b"
             ],
             [
              0.6666666666666666,
              "#ed7953"
             ],
             [
              0.7777777777777778,
              "#fb9f3a"
             ],
             [
              0.8888888888888888,
              "#fdca26"
             ],
             [
              1,
              "#f0f921"
             ]
            ],
            "type": "contour"
           }
          ],
          "contourcarpet": [
           {
            "colorbar": {
             "outlinewidth": 0,
             "ticks": ""
            },
            "type": "contourcarpet"
           }
          ],
          "heatmap": [
           {
            "colorbar": {
             "outlinewidth": 0,
             "ticks": ""
            },
            "colorscale": [
             [
              0,
              "#0d0887"
             ],
             [
              0.1111111111111111,
              "#46039f"
             ],
             [
              0.2222222222222222,
              "#7201a8"
             ],
             [
              0.3333333333333333,
              "#9c179e"
             ],
             [
              0.4444444444444444,
              "#bd3786"
             ],
             [
              0.5555555555555556,
              "#d8576b"
             ],
             [
              0.6666666666666666,
              "#ed7953"
             ],
             [
              0.7777777777777778,
              "#fb9f3a"
             ],
             [
              0.8888888888888888,
              "#fdca26"
             ],
             [
              1,
              "#f0f921"
             ]
            ],
            "type": "heatmap"
           }
          ],
          "heatmapgl": [
           {
            "colorbar": {
             "outlinewidth": 0,
             "ticks": ""
            },
            "colorscale": [
             [
              0,
              "#0d0887"
             ],
             [
              0.1111111111111111,
              "#46039f"
             ],
             [
              0.2222222222222222,
              "#7201a8"
             ],
             [
              0.3333333333333333,
              "#9c179e"
             ],
             [
              0.4444444444444444,
              "#bd3786"
             ],
             [
              0.5555555555555556,
              "#d8576b"
             ],
             [
              0.6666666666666666,
              "#ed7953"
             ],
             [
              0.7777777777777778,
              "#fb9f3a"
             ],
             [
              0.8888888888888888,
              "#fdca26"
             ],
             [
              1,
              "#f0f921"
             ]
            ],
            "type": "heatmapgl"
           }
          ],
          "histogram": [
           {
            "marker": {
             "pattern": {
              "fillmode": "overlay",
              "size": 10,
              "solidity": 0.2
             }
            },
            "type": "histogram"
           }
          ],
          "histogram2d": [
           {
            "colorbar": {
             "outlinewidth": 0,
             "ticks": ""
            },
            "colorscale": [
             [
              0,
              "#0d0887"
             ],
             [
              0.1111111111111111,
              "#46039f"
             ],
             [
              0.2222222222222222,
              "#7201a8"
             ],
             [
              0.3333333333333333,
              "#9c179e"
             ],
             [
              0.4444444444444444,
              "#bd3786"
             ],
             [
              0.5555555555555556,
              "#d8576b"
             ],
             [
              0.6666666666666666,
              "#ed7953"
             ],
             [
              0.7777777777777778,
              "#fb9f3a"
             ],
             [
              0.8888888888888888,
              "#fdca26"
             ],
             [
              1,
              "#f0f921"
             ]
            ],
            "type": "histogram2d"
           }
          ],
          "histogram2dcontour": [
           {
            "colorbar": {
             "outlinewidth": 0,
             "ticks": ""
            },
            "colorscale": [
             [
              0,
              "#0d0887"
             ],
             [
              0.1111111111111111,
              "#46039f"
             ],
             [
              0.2222222222222222,
              "#7201a8"
             ],
             [
              0.3333333333333333,
              "#9c179e"
             ],
             [
              0.4444444444444444,
              "#bd3786"
             ],
             [
              0.5555555555555556,
              "#d8576b"
             ],
             [
              0.6666666666666666,
              "#ed7953"
             ],
             [
              0.7777777777777778,
              "#fb9f3a"
             ],
             [
              0.8888888888888888,
              "#fdca26"
             ],
             [
              1,
              "#f0f921"
             ]
            ],
            "type": "histogram2dcontour"
           }
          ],
          "mesh3d": [
           {
            "colorbar": {
             "outlinewidth": 0,
             "ticks": ""
            },
            "type": "mesh3d"
           }
          ],
          "parcoords": [
           {
            "line": {
             "colorbar": {
              "outlinewidth": 0,
              "ticks": ""
             }
            },
            "type": "parcoords"
           }
          ],
          "pie": [
           {
            "automargin": true,
            "type": "pie"
           }
          ],
          "scatter": [
           {
            "fillpattern": {
             "fillmode": "overlay",
             "size": 10,
             "solidity": 0.2
            },
            "type": "scatter"
           }
          ],
          "scatter3d": [
           {
            "line": {
             "colorbar": {
              "outlinewidth": 0,
              "ticks": ""
             }
            },
            "marker": {
             "colorbar": {
              "outlinewidth": 0,
              "ticks": ""
             }
            },
            "type": "scatter3d"
           }
          ],
          "scattercarpet": [
           {
            "marker": {
             "colorbar": {
              "outlinewidth": 0,
              "ticks": ""
             }
            },
            "type": "scattercarpet"
           }
          ],
          "scattergeo": [
           {
            "marker": {
             "colorbar": {
              "outlinewidth": 0,
              "ticks": ""
             }
            },
            "type": "scattergeo"
           }
          ],
          "scattergl": [
           {
            "marker": {
             "colorbar": {
              "outlinewidth": 0,
              "ticks": ""
             }
            },
            "type": "scattergl"
           }
          ],
          "scattermapbox": [
           {
            "marker": {
             "colorbar": {
              "outlinewidth": 0,
              "ticks": ""
             }
            },
            "type": "scattermapbox"
           }
          ],
          "scatterpolar": [
           {
            "marker": {
             "colorbar": {
              "outlinewidth": 0,
              "ticks": ""
             }
            },
            "type": "scatterpolar"
           }
          ],
          "scatterpolargl": [
           {
            "marker": {
             "colorbar": {
              "outlinewidth": 0,
              "ticks": ""
             }
            },
            "type": "scatterpolargl"
           }
          ],
          "scatterternary": [
           {
            "marker": {
             "colorbar": {
              "outlinewidth": 0,
              "ticks": ""
             }
            },
            "type": "scatterternary"
           }
          ],
          "surface": [
           {
            "colorbar": {
             "outlinewidth": 0,
             "ticks": ""
            },
            "colorscale": [
             [
              0,
              "#0d0887"
             ],
             [
              0.1111111111111111,
              "#46039f"
             ],
             [
              0.2222222222222222,
              "#7201a8"
             ],
             [
              0.3333333333333333,
              "#9c179e"
             ],
             [
              0.4444444444444444,
              "#bd3786"
             ],
             [
              0.5555555555555556,
              "#d8576b"
             ],
             [
              0.6666666666666666,
              "#ed7953"
             ],
             [
              0.7777777777777778,
              "#fb9f3a"
             ],
             [
              0.8888888888888888,
              "#fdca26"
             ],
             [
              1,
              "#f0f921"
             ]
            ],
            "type": "surface"
           }
          ],
          "table": [
           {
            "cells": {
             "fill": {
              "color": "#EBF0F8"
             },
             "line": {
              "color": "white"
             }
            },
            "header": {
             "fill": {
              "color": "#C8D4E3"
             },
             "line": {
              "color": "white"
             }
            },
            "type": "table"
           }
          ]
         },
         "layout": {
          "annotationdefaults": {
           "arrowcolor": "#2a3f5f",
           "arrowhead": 0,
           "arrowwidth": 1
          },
          "autotypenumbers": "strict",
          "coloraxis": {
           "colorbar": {
            "outlinewidth": 0,
            "ticks": ""
           }
          },
          "colorscale": {
           "diverging": [
            [
             0,
             "#8e0152"
            ],
            [
             0.1,
             "#c51b7d"
            ],
            [
             0.2,
             "#de77ae"
            ],
            [
             0.3,
             "#f1b6da"
            ],
            [
             0.4,
             "#fde0ef"
            ],
            [
             0.5,
             "#f7f7f7"
            ],
            [
             0.6,
             "#e6f5d0"
            ],
            [
             0.7,
             "#b8e186"
            ],
            [
             0.8,
             "#7fbc41"
            ],
            [
             0.9,
             "#4d9221"
            ],
            [
             1,
             "#276419"
            ]
           ],
           "sequential": [
            [
             0,
             "#0d0887"
            ],
            [
             0.1111111111111111,
             "#46039f"
            ],
            [
             0.2222222222222222,
             "#7201a8"
            ],
            [
             0.3333333333333333,
             "#9c179e"
            ],
            [
             0.4444444444444444,
             "#bd3786"
            ],
            [
             0.5555555555555556,
             "#d8576b"
            ],
            [
             0.6666666666666666,
             "#ed7953"
            ],
            [
             0.7777777777777778,
             "#fb9f3a"
            ],
            [
             0.8888888888888888,
             "#fdca26"
            ],
            [
             1,
             "#f0f921"
            ]
           ],
           "sequentialminus": [
            [
             0,
             "#0d0887"
            ],
            [
             0.1111111111111111,
             "#46039f"
            ],
            [
             0.2222222222222222,
             "#7201a8"
            ],
            [
             0.3333333333333333,
             "#9c179e"
            ],
            [
             0.4444444444444444,
             "#bd3786"
            ],
            [
             0.5555555555555556,
             "#d8576b"
            ],
            [
             0.6666666666666666,
             "#ed7953"
            ],
            [
             0.7777777777777778,
             "#fb9f3a"
            ],
            [
             0.8888888888888888,
             "#fdca26"
            ],
            [
             1,
             "#f0f921"
            ]
           ]
          },
          "colorway": [
           "#636efa",
           "#EF553B",
           "#00cc96",
           "#ab63fa",
           "#FFA15A",
           "#19d3f3",
           "#FF6692",
           "#B6E880",
           "#FF97FF",
           "#FECB52"
          ],
          "font": {
           "color": "#2a3f5f"
          },
          "geo": {
           "bgcolor": "white",
           "lakecolor": "white",
           "landcolor": "#E5ECF6",
           "showlakes": true,
           "showland": true,
           "subunitcolor": "white"
          },
          "hoverlabel": {
           "align": "left"
          },
          "hovermode": "closest",
          "mapbox": {
           "style": "light"
          },
          "paper_bgcolor": "white",
          "plot_bgcolor": "#E5ECF6",
          "polar": {
           "angularaxis": {
            "gridcolor": "white",
            "linecolor": "white",
            "ticks": ""
           },
           "bgcolor": "#E5ECF6",
           "radialaxis": {
            "gridcolor": "white",
            "linecolor": "white",
            "ticks": ""
           }
          },
          "scene": {
           "xaxis": {
            "backgroundcolor": "#E5ECF6",
            "gridcolor": "white",
            "gridwidth": 2,
            "linecolor": "white",
            "showbackground": true,
            "ticks": "",
            "zerolinecolor": "white"
           },
           "yaxis": {
            "backgroundcolor": "#E5ECF6",
            "gridcolor": "white",
            "gridwidth": 2,
            "linecolor": "white",
            "showbackground": true,
            "ticks": "",
            "zerolinecolor": "white"
           },
           "zaxis": {
            "backgroundcolor": "#E5ECF6",
            "gridcolor": "white",
            "gridwidth": 2,
            "linecolor": "white",
            "showbackground": true,
            "ticks": "",
            "zerolinecolor": "white"
           }
          },
          "shapedefaults": {
           "line": {
            "color": "#2a3f5f"
           }
          },
          "ternary": {
           "aaxis": {
            "gridcolor": "white",
            "linecolor": "white",
            "ticks": ""
           },
           "baxis": {
            "gridcolor": "white",
            "linecolor": "white",
            "ticks": ""
           },
           "bgcolor": "#E5ECF6",
           "caxis": {
            "gridcolor": "white",
            "linecolor": "white",
            "ticks": ""
           }
          },
          "title": {
           "x": 0.05
          },
          "xaxis": {
           "automargin": true,
           "gridcolor": "white",
           "linecolor": "white",
           "ticks": "",
           "title": {
            "standoff": 15
           },
           "zerolinecolor": "white",
           "zerolinewidth": 2
          },
          "yaxis": {
           "automargin": true,
           "gridcolor": "white",
           "linecolor": "white",
           "ticks": "",
           "title": {
            "standoff": 15
           },
           "zerolinecolor": "white",
           "zerolinewidth": 2
          }
         }
        }
       }
      }
     },
     "metadata": {},
     "output_type": "display_data"
    },
    {
     "data": {
      "application/vnd.plotly.v1+json": {
       "config": {
        "plotlyServerURL": "https://plotly.com"
       },
       "data": [
        {
         "hovertemplate": "Ventas 2019=%{marker.color}<br>Comunidades=%{text}<br>Latitud=%{lat}<br>Longitud=%{lon}<extra></extra>",
         "lat": [
          37.4681178570892,
          41.5139247146545,
          43.2937220828477,
          39.5736869066881,
          28.3501719765776,
          43.1971511768274,
          41.7521468123472,
          39.577577660364,
          41.797427299488,
          39.3950044279987,
          39.1877394661092,
          42.7547472692852,
          40.494566396543,
          38.0012558520825,
          42.6666457550456,
          43.0432512002306,
          42.2752992031491
         ],
         "legendgroup": "",
         "lon": [
          -4.57619759928521,
          -0.665188363252903,
          -5.99327675127265,
          2.90480293180095,
          -15.6703443955745,
          -4.03212552496074,
          -4.78484344919995,
          -3.00638893532113,
          1.5243542306751,
          -0.557814181118517,
          -6.15132249142922,
          -7.91087207569347,
          -3.71679674194616,
          -1.48537547094598,
          -1.64778049397349,
          -2.61690349909685,
          -2.5164092074648
         ],
         "marker": {
          "color": [
           12754.8249,
           2680.0658,
           1571.36175,
           5392.3392,
           1746.36114,
           15240.337,
           12239.1256,
           2345.6232,
           1330.49318,
           3307.7258,
           1188.74653,
           1075.81386,
           915.28142,
           2259.9413,
           430.48536,
           1294.34621,
           3203.1428
          ],
          "coloraxis": "coloraxis",
          "size": [
           12754.8249,
           2680.0658,
           1571.36175,
           5392.3392,
           1746.36114,
           15240.337,
           12239.1256,
           2345.6232,
           1330.49318,
           3307.7258,
           1188.74653,
           1075.81386,
           915.28142,
           2259.9413,
           430.48536,
           1294.34621,
           3203.1428
          ],
          "sizemode": "area",
          "sizeref": 38.1008425
         },
         "mode": "markers+text",
         "name": "",
         "showlegend": false,
         "subplot": "mapbox",
         "text": [
          "CATALUÑA",
          "ARAGÓN",
          "ILLES BALEARS",
          "COMUNITAT VALENCIANA",
          "REGIÓN DE MURCIA",
          "ANDALUCÍA",
          "COMUNIDAD DE MADRID",
          "CASTILLA - LA MANCHA",
          "EXTREMADURA",
          "CASTILLA Y LEÓN",
          "GALICIA",
          "PRINCIPADO DE ASTURIAS",
          "CANTABRIA",
          "PAIS VASCO",
          "LA RIOJA",
          "C. FORAL DE NAVARRA",
          "CANARIAS"
         ],
         "type": "scattermapbox"
        }
       ],
       "layout": {
        "coloraxis": {
         "colorbar": {
          "title": {
           "text": "Ventas 2019"
          }
         },
         "colorscale": [
          [
           0,
           "#0d0887"
          ],
          [
           0.1111111111111111,
           "#46039f"
          ],
          [
           0.2222222222222222,
           "#7201a8"
          ],
          [
           0.3333333333333333,
           "#9c179e"
          ],
          [
           0.4444444444444444,
           "#bd3786"
          ],
          [
           0.5555555555555556,
           "#d8576b"
          ],
          [
           0.6666666666666666,
           "#ed7953"
          ],
          [
           0.7777777777777778,
           "#fb9f3a"
          ],
          [
           0.8888888888888888,
           "#fdca26"
          ],
          [
           1,
           "#f0f921"
          ]
         ]
        },
        "legend": {
         "itemsizing": "constant",
         "tracegroupgap": 0
        },
        "mapbox": {
         "center": {
          "lat": 40.25543741513691,
          "lon": -3.5824989422387956
         },
         "domain": {
          "x": [
           0,
           1
          ],
          "y": [
           0,
           1
          ]
         },
         "style": "carto-positron",
         "zoom": 4.4
        },
        "margin": {
         "t": 60
        },
        "template": {
         "data": {
          "bar": [
           {
            "error_x": {
             "color": "#2a3f5f"
            },
            "error_y": {
             "color": "#2a3f5f"
            },
            "marker": {
             "line": {
              "color": "#E5ECF6",
              "width": 0.5
             },
             "pattern": {
              "fillmode": "overlay",
              "size": 10,
              "solidity": 0.2
             }
            },
            "type": "bar"
           }
          ],
          "barpolar": [
           {
            "marker": {
             "line": {
              "color": "#E5ECF6",
              "width": 0.5
             },
             "pattern": {
              "fillmode": "overlay",
              "size": 10,
              "solidity": 0.2
             }
            },
            "type": "barpolar"
           }
          ],
          "carpet": [
           {
            "aaxis": {
             "endlinecolor": "#2a3f5f",
             "gridcolor": "white",
             "linecolor": "white",
             "minorgridcolor": "white",
             "startlinecolor": "#2a3f5f"
            },
            "baxis": {
             "endlinecolor": "#2a3f5f",
             "gridcolor": "white",
             "linecolor": "white",
             "minorgridcolor": "white",
             "startlinecolor": "#2a3f5f"
            },
            "type": "carpet"
           }
          ],
          "choropleth": [
           {
            "colorbar": {
             "outlinewidth": 0,
             "ticks": ""
            },
            "type": "choropleth"
           }
          ],
          "contour": [
           {
            "colorbar": {
             "outlinewidth": 0,
             "ticks": ""
            },
            "colorscale": [
             [
              0,
              "#0d0887"
             ],
             [
              0.1111111111111111,
              "#46039f"
             ],
             [
              0.2222222222222222,
              "#7201a8"
             ],
             [
              0.3333333333333333,
              "#9c179e"
             ],
             [
              0.4444444444444444,
              "#bd3786"
             ],
             [
              0.5555555555555556,
              "#d8576b"
             ],
             [
              0.6666666666666666,
              "#ed7953"
             ],
             [
              0.7777777777777778,
              "#fb9f3a"
             ],
             [
              0.8888888888888888,
              "#fdca26"
             ],
             [
              1,
              "#f0f921"
             ]
            ],
            "type": "contour"
           }
          ],
          "contourcarpet": [
           {
            "colorbar": {
             "outlinewidth": 0,
             "ticks": ""
            },
            "type": "contourcarpet"
           }
          ],
          "heatmap": [
           {
            "colorbar": {
             "outlinewidth": 0,
             "ticks": ""
            },
            "colorscale": [
             [
              0,
              "#0d0887"
             ],
             [
              0.1111111111111111,
              "#46039f"
             ],
             [
              0.2222222222222222,
              "#7201a8"
             ],
             [
              0.3333333333333333,
              "#9c179e"
             ],
             [
              0.4444444444444444,
              "#bd3786"
             ],
             [
              0.5555555555555556,
              "#d8576b"
             ],
             [
              0.6666666666666666,
              "#ed7953"
             ],
             [
              0.7777777777777778,
              "#fb9f3a"
             ],
             [
              0.8888888888888888,
              "#fdca26"
             ],
             [
              1,
              "#f0f921"
             ]
            ],
            "type": "heatmap"
           }
          ],
          "heatmapgl": [
           {
            "colorbar": {
             "outlinewidth": 0,
             "ticks": ""
            },
            "colorscale": [
             [
              0,
              "#0d0887"
             ],
             [
              0.1111111111111111,
              "#46039f"
             ],
             [
              0.2222222222222222,
              "#7201a8"
             ],
             [
              0.3333333333333333,
              "#9c179e"
             ],
             [
              0.4444444444444444,
              "#bd3786"
             ],
             [
              0.5555555555555556,
              "#d8576b"
             ],
             [
              0.6666666666666666,
              "#ed7953"
             ],
             [
              0.7777777777777778,
              "#fb9f3a"
             ],
             [
              0.8888888888888888,
              "#fdca26"
             ],
             [
              1,
              "#f0f921"
             ]
            ],
            "type": "heatmapgl"
           }
          ],
          "histogram": [
           {
            "marker": {
             "pattern": {
              "fillmode": "overlay",
              "size": 10,
              "solidity": 0.2
             }
            },
            "type": "histogram"
           }
          ],
          "histogram2d": [
           {
            "colorbar": {
             "outlinewidth": 0,
             "ticks": ""
            },
            "colorscale": [
             [
              0,
              "#0d0887"
             ],
             [
              0.1111111111111111,
              "#46039f"
             ],
             [
              0.2222222222222222,
              "#7201a8"
             ],
             [
              0.3333333333333333,
              "#9c179e"
             ],
             [
              0.4444444444444444,
              "#bd3786"
             ],
             [
              0.5555555555555556,
              "#d8576b"
             ],
             [
              0.6666666666666666,
              "#ed7953"
             ],
             [
              0.7777777777777778,
              "#fb9f3a"
             ],
             [
              0.8888888888888888,
              "#fdca26"
             ],
             [
              1,
              "#f0f921"
             ]
            ],
            "type": "histogram2d"
           }
          ],
          "histogram2dcontour": [
           {
            "colorbar": {
             "outlinewidth": 0,
             "ticks": ""
            },
            "colorscale": [
             [
              0,
              "#0d0887"
             ],
             [
              0.1111111111111111,
              "#46039f"
             ],
             [
              0.2222222222222222,
              "#7201a8"
             ],
             [
              0.3333333333333333,
              "#9c179e"
             ],
             [
              0.4444444444444444,
              "#bd3786"
             ],
             [
              0.5555555555555556,
              "#d8576b"
             ],
             [
              0.6666666666666666,
              "#ed7953"
             ],
             [
              0.7777777777777778,
              "#fb9f3a"
             ],
             [
              0.8888888888888888,
              "#fdca26"
             ],
             [
              1,
              "#f0f921"
             ]
            ],
            "type": "histogram2dcontour"
           }
          ],
          "mesh3d": [
           {
            "colorbar": {
             "outlinewidth": 0,
             "ticks": ""
            },
            "type": "mesh3d"
           }
          ],
          "parcoords": [
           {
            "line": {
             "colorbar": {
              "outlinewidth": 0,
              "ticks": ""
             }
            },
            "type": "parcoords"
           }
          ],
          "pie": [
           {
            "automargin": true,
            "type": "pie"
           }
          ],
          "scatter": [
           {
            "fillpattern": {
             "fillmode": "overlay",
             "size": 10,
             "solidity": 0.2
            },
            "type": "scatter"
           }
          ],
          "scatter3d": [
           {
            "line": {
             "colorbar": {
              "outlinewidth": 0,
              "ticks": ""
             }
            },
            "marker": {
             "colorbar": {
              "outlinewidth": 0,
              "ticks": ""
             }
            },
            "type": "scatter3d"
           }
          ],
          "scattercarpet": [
           {
            "marker": {
             "colorbar": {
              "outlinewidth": 0,
              "ticks": ""
             }
            },
            "type": "scattercarpet"
           }
          ],
          "scattergeo": [
           {
            "marker": {
             "colorbar": {
              "outlinewidth": 0,
              "ticks": ""
             }
            },
            "type": "scattergeo"
           }
          ],
          "scattergl": [
           {
            "marker": {
             "colorbar": {
              "outlinewidth": 0,
              "ticks": ""
             }
            },
            "type": "scattergl"
           }
          ],
          "scattermapbox": [
           {
            "marker": {
             "colorbar": {
              "outlinewidth": 0,
              "ticks": ""
             }
            },
            "type": "scattermapbox"
           }
          ],
          "scatterpolar": [
           {
            "marker": {
             "colorbar": {
              "outlinewidth": 0,
              "ticks": ""
             }
            },
            "type": "scatterpolar"
           }
          ],
          "scatterpolargl": [
           {
            "marker": {
             "colorbar": {
              "outlinewidth": 0,
              "ticks": ""
             }
            },
            "type": "scatterpolargl"
           }
          ],
          "scatterternary": [
           {
            "marker": {
             "colorbar": {
              "outlinewidth": 0,
              "ticks": ""
             }
            },
            "type": "scatterternary"
           }
          ],
          "surface": [
           {
            "colorbar": {
             "outlinewidth": 0,
             "ticks": ""
            },
            "colorscale": [
             [
              0,
              "#0d0887"
             ],
             [
              0.1111111111111111,
              "#46039f"
             ],
             [
              0.2222222222222222,
              "#7201a8"
             ],
             [
              0.3333333333333333,
              "#9c179e"
             ],
             [
              0.4444444444444444,
              "#bd3786"
             ],
             [
              0.5555555555555556,
              "#d8576b"
             ],
             [
              0.6666666666666666,
              "#ed7953"
             ],
             [
              0.7777777777777778,
              "#fb9f3a"
             ],
             [
              0.8888888888888888,
              "#fdca26"
             ],
             [
              1,
              "#f0f921"
             ]
            ],
            "type": "surface"
           }
          ],
          "table": [
           {
            "cells": {
             "fill": {
              "color": "#EBF0F8"
             },
             "line": {
              "color": "white"
             }
            },
            "header": {
             "fill": {
              "color": "#C8D4E3"
             },
             "line": {
              "color": "white"
             }
            },
            "type": "table"
           }
          ]
         },
         "layout": {
          "annotationdefaults": {
           "arrowcolor": "#2a3f5f",
           "arrowhead": 0,
           "arrowwidth": 1
          },
          "autotypenumbers": "strict",
          "coloraxis": {
           "colorbar": {
            "outlinewidth": 0,
            "ticks": ""
           }
          },
          "colorscale": {
           "diverging": [
            [
             0,
             "#8e0152"
            ],
            [
             0.1,
             "#c51b7d"
            ],
            [
             0.2,
             "#de77ae"
            ],
            [
             0.3,
             "#f1b6da"
            ],
            [
             0.4,
             "#fde0ef"
            ],
            [
             0.5,
             "#f7f7f7"
            ],
            [
             0.6,
             "#e6f5d0"
            ],
            [
             0.7,
             "#b8e186"
            ],
            [
             0.8,
             "#7fbc41"
            ],
            [
             0.9,
             "#4d9221"
            ],
            [
             1,
             "#276419"
            ]
           ],
           "sequential": [
            [
             0,
             "#0d0887"
            ],
            [
             0.1111111111111111,
             "#46039f"
            ],
            [
             0.2222222222222222,
             "#7201a8"
            ],
            [
             0.3333333333333333,
             "#9c179e"
            ],
            [
             0.4444444444444444,
             "#bd3786"
            ],
            [
             0.5555555555555556,
             "#d8576b"
            ],
            [
             0.6666666666666666,
             "#ed7953"
            ],
            [
             0.7777777777777778,
             "#fb9f3a"
            ],
            [
             0.8888888888888888,
             "#fdca26"
            ],
            [
             1,
             "#f0f921"
            ]
           ],
           "sequentialminus": [
            [
             0,
             "#0d0887"
            ],
            [
             0.1111111111111111,
             "#46039f"
            ],
            [
             0.2222222222222222,
             "#7201a8"
            ],
            [
             0.3333333333333333,
             "#9c179e"
            ],
            [
             0.4444444444444444,
             "#bd3786"
            ],
            [
             0.5555555555555556,
             "#d8576b"
            ],
            [
             0.6666666666666666,
             "#ed7953"
            ],
            [
             0.7777777777777778,
             "#fb9f3a"
            ],
            [
             0.8888888888888888,
             "#fdca26"
            ],
            [
             1,
             "#f0f921"
            ]
           ]
          },
          "colorway": [
           "#636efa",
           "#EF553B",
           "#00cc96",
           "#ab63fa",
           "#FFA15A",
           "#19d3f3",
           "#FF6692",
           "#B6E880",
           "#FF97FF",
           "#FECB52"
          ],
          "font": {
           "color": "#2a3f5f"
          },
          "geo": {
           "bgcolor": "white",
           "lakecolor": "white",
           "landcolor": "#E5ECF6",
           "showlakes": true,
           "showland": true,
           "subunitcolor": "white"
          },
          "hoverlabel": {
           "align": "left"
          },
          "hovermode": "closest",
          "mapbox": {
           "style": "light"
          },
          "paper_bgcolor": "white",
          "plot_bgcolor": "#E5ECF6",
          "polar": {
           "angularaxis": {
            "gridcolor": "white",
            "linecolor": "white",
            "ticks": ""
           },
           "bgcolor": "#E5ECF6",
           "radialaxis": {
            "gridcolor": "white",
            "linecolor": "white",
            "ticks": ""
           }
          },
          "scene": {
           "xaxis": {
            "backgroundcolor": "#E5ECF6",
            "gridcolor": "white",
            "gridwidth": 2,
            "linecolor": "white",
            "showbackground": true,
            "ticks": "",
            "zerolinecolor": "white"
           },
           "yaxis": {
            "backgroundcolor": "#E5ECF6",
            "gridcolor": "white",
            "gridwidth": 2,
            "linecolor": "white",
            "showbackground": true,
            "ticks": "",
            "zerolinecolor": "white"
           },
           "zaxis": {
            "backgroundcolor": "#E5ECF6",
            "gridcolor": "white",
            "gridwidth": 2,
            "linecolor": "white",
            "showbackground": true,
            "ticks": "",
            "zerolinecolor": "white"
           }
          },
          "shapedefaults": {
           "line": {
            "color": "#2a3f5f"
           }
          },
          "ternary": {
           "aaxis": {
            "gridcolor": "white",
            "linecolor": "white",
            "ticks": ""
           },
           "baxis": {
            "gridcolor": "white",
            "linecolor": "white",
            "ticks": ""
           },
           "bgcolor": "#E5ECF6",
           "caxis": {
            "gridcolor": "white",
            "linecolor": "white",
            "ticks": ""
           }
          },
          "title": {
           "x": 0.05
          },
          "xaxis": {
           "automargin": true,
           "gridcolor": "white",
           "linecolor": "white",
           "ticks": "",
           "title": {
            "standoff": 15
           },
           "zerolinecolor": "white",
           "zerolinewidth": 2
          },
          "yaxis": {
           "automargin": true,
           "gridcolor": "white",
           "linecolor": "white",
           "ticks": "",
           "title": {
            "standoff": 15
           },
           "zerolinecolor": "white",
           "zerolinewidth": 2
          }
         }
        }
       }
      }
     },
     "metadata": {},
     "output_type": "display_data"
    }
   ],
   "source": [
    "# Datos con latitud/longitud y valores\n",
    "ventas21_fig = px.scatter_mapbox(mapaVentas, lat = 'Latitud', lon = 'Longitud', size = 'Ventas 2021',\n",
    "                        color = 'Ventas 2021',\n",
    "                        text = 'Comunidades',\n",
    "                        zoom = 4.4, \n",
    "                        mapbox_style = 'carto-positron')\n",
    "               \n",
    "ventas21_fig.show() \n",
    "\n",
    "# VENTAS 2020--Datos con latitud/longitud y valores\n",
    "ventas20_fig = px.scatter_mapbox(mapaVentas, lat = 'Latitud', lon = 'Longitud', size = 'Ventas 2020',\n",
    "                        color = 'Ventas 2020',\n",
    "                        text = 'Comunidades',\n",
    "                        zoom = 4.4, \n",
    "                        mapbox_style = 'carto-positron')\n",
    "               \n",
    "ventas20_fig.show() \n",
    "\n",
    "# Datos con latitud/longitud y valores\n",
    "ventas19_fig = px.scatter_mapbox(mapaVentas, lat = 'Latitud', lon = 'Longitud', size = 'Ventas 2019',\n",
    "                        color = 'Ventas 2019',\n",
    "                        text = 'Comunidades',\n",
    "                        zoom = 4.4, \n",
    "                        mapbox_style = 'carto-positron')\n",
    "               \n",
    "ventas19_fig.show() "
   ]
  },
  {
   "cell_type": "code",
   "execution_count": 272,
   "metadata": {},
   "outputs": [
    {
     "data": {
      "application/vnd.plotly.v1+json": {
       "config": {
        "plotlyServerURL": "https://plotly.com"
       },
       "data": [
        {
         "geo": "geo",
         "hovertemplate": "Ventas 2021=%{marker.size}<br>Latitud=%{lat}<br>Longitud=%{lon}<extra></extra>",
         "lat": [
          37.4681178570892,
          41.5139247146545,
          43.2937220828477,
          39.5736869066881,
          28.3501719765776,
          43.1971511768274,
          41.7521468123472,
          39.577577660364,
          41.797427299488,
          39.3950044279987,
          39.1877394661092,
          42.7547472692852,
          40.494566396543,
          38.0012558520825,
          42.6666457550456,
          43.0432512002306,
          42.2752992031491
         ],
         "legendgroup": "",
         "lon": [
          -4.57619759928521,
          -0.665188363252903,
          -5.99327675127265,
          2.90480293180095,
          -15.6703443955745,
          -4.03212552496074,
          -4.78484344919995,
          -3.00638893532113,
          1.5243542306751,
          -0.557814181118517,
          -6.15132249142922,
          -7.91087207569347,
          -3.71679674194616,
          -1.48537547094598,
          -1.64778049397349,
          -2.61690349909685,
          -2.5164092074648
         ],
         "marker": {
          "color": "#636efa",
          "size": [
           24785.3368,
           5897.3986,
           3089.12619,
           11334.5155,
           3376.63014,
           28513.9313,
           23640.2594,
           6014.007,
           3541.3682,
           8776.0117,
           3659.49205,
           2569.46837,
           1700.3784,
           8525.8415,
           1078.99886,
           1764.70445,
           5005.2866
          ],
          "sizemode": "area",
          "sizeref": 71.28482825,
          "symbol": "circle"
         },
         "mode": "markers",
         "name": "",
         "showlegend": false,
         "type": "scattergeo"
        }
       ],
       "layout": {
        "autosize": true,
        "geo": {
         "center": {
          "lat": 40,
          "lon": -3.72
         },
         "domain": {
          "x": [
           0,
           1
          ],
          "y": [
           0,
           1
          ]
         },
         "projection": {
          "scale": 6
         },
         "scope": "europe"
        },
        "legend": {
         "itemsizing": "constant",
         "tracegroupgap": 0
        },
        "margin": {
         "t": 60
        },
        "template": {
         "data": {
          "bar": [
           {
            "error_x": {
             "color": "#2a3f5f"
            },
            "error_y": {
             "color": "#2a3f5f"
            },
            "marker": {
             "line": {
              "color": "#E5ECF6",
              "width": 0.5
             },
             "pattern": {
              "fillmode": "overlay",
              "size": 10,
              "solidity": 0.2
             }
            },
            "type": "bar"
           }
          ],
          "barpolar": [
           {
            "marker": {
             "line": {
              "color": "#E5ECF6",
              "width": 0.5
             },
             "pattern": {
              "fillmode": "overlay",
              "size": 10,
              "solidity": 0.2
             }
            },
            "type": "barpolar"
           }
          ],
          "carpet": [
           {
            "aaxis": {
             "endlinecolor": "#2a3f5f",
             "gridcolor": "white",
             "linecolor": "white",
             "minorgridcolor": "white",
             "startlinecolor": "#2a3f5f"
            },
            "baxis": {
             "endlinecolor": "#2a3f5f",
             "gridcolor": "white",
             "linecolor": "white",
             "minorgridcolor": "white",
             "startlinecolor": "#2a3f5f"
            },
            "type": "carpet"
           }
          ],
          "choropleth": [
           {
            "colorbar": {
             "outlinewidth": 0,
             "ticks": ""
            },
            "type": "choropleth"
           }
          ],
          "contour": [
           {
            "colorbar": {
             "outlinewidth": 0,
             "ticks": ""
            },
            "colorscale": [
             [
              0,
              "#0d0887"
             ],
             [
              0.1111111111111111,
              "#46039f"
             ],
             [
              0.2222222222222222,
              "#7201a8"
             ],
             [
              0.3333333333333333,
              "#9c179e"
             ],
             [
              0.4444444444444444,
              "#bd3786"
             ],
             [
              0.5555555555555556,
              "#d8576b"
             ],
             [
              0.6666666666666666,
              "#ed7953"
             ],
             [
              0.7777777777777778,
              "#fb9f3a"
             ],
             [
              0.8888888888888888,
              "#fdca26"
             ],
             [
              1,
              "#f0f921"
             ]
            ],
            "type": "contour"
           }
          ],
          "contourcarpet": [
           {
            "colorbar": {
             "outlinewidth": 0,
             "ticks": ""
            },
            "type": "contourcarpet"
           }
          ],
          "heatmap": [
           {
            "colorbar": {
             "outlinewidth": 0,
             "ticks": ""
            },
            "colorscale": [
             [
              0,
              "#0d0887"
             ],
             [
              0.1111111111111111,
              "#46039f"
             ],
             [
              0.2222222222222222,
              "#7201a8"
             ],
             [
              0.3333333333333333,
              "#9c179e"
             ],
             [
              0.4444444444444444,
              "#bd3786"
             ],
             [
              0.5555555555555556,
              "#d8576b"
             ],
             [
              0.6666666666666666,
              "#ed7953"
             ],
             [
              0.7777777777777778,
              "#fb9f3a"
             ],
             [
              0.8888888888888888,
              "#fdca26"
             ],
             [
              1,
              "#f0f921"
             ]
            ],
            "type": "heatmap"
           }
          ],
          "heatmapgl": [
           {
            "colorbar": {
             "outlinewidth": 0,
             "ticks": ""
            },
            "colorscale": [
             [
              0,
              "#0d0887"
             ],
             [
              0.1111111111111111,
              "#46039f"
             ],
             [
              0.2222222222222222,
              "#7201a8"
             ],
             [
              0.3333333333333333,
              "#9c179e"
             ],
             [
              0.4444444444444444,
              "#bd3786"
             ],
             [
              0.5555555555555556,
              "#d8576b"
             ],
             [
              0.6666666666666666,
              "#ed7953"
             ],
             [
              0.7777777777777778,
              "#fb9f3a"
             ],
             [
              0.8888888888888888,
              "#fdca26"
             ],
             [
              1,
              "#f0f921"
             ]
            ],
            "type": "heatmapgl"
           }
          ],
          "histogram": [
           {
            "marker": {
             "pattern": {
              "fillmode": "overlay",
              "size": 10,
              "solidity": 0.2
             }
            },
            "type": "histogram"
           }
          ],
          "histogram2d": [
           {
            "colorbar": {
             "outlinewidth": 0,
             "ticks": ""
            },
            "colorscale": [
             [
              0,
              "#0d0887"
             ],
             [
              0.1111111111111111,
              "#46039f"
             ],
             [
              0.2222222222222222,
              "#7201a8"
             ],
             [
              0.3333333333333333,
              "#9c179e"
             ],
             [
              0.4444444444444444,
              "#bd3786"
             ],
             [
              0.5555555555555556,
              "#d8576b"
             ],
             [
              0.6666666666666666,
              "#ed7953"
             ],
             [
              0.7777777777777778,
              "#fb9f3a"
             ],
             [
              0.8888888888888888,
              "#fdca26"
             ],
             [
              1,
              "#f0f921"
             ]
            ],
            "type": "histogram2d"
           }
          ],
          "histogram2dcontour": [
           {
            "colorbar": {
             "outlinewidth": 0,
             "ticks": ""
            },
            "colorscale": [
             [
              0,
              "#0d0887"
             ],
             [
              0.1111111111111111,
              "#46039f"
             ],
             [
              0.2222222222222222,
              "#7201a8"
             ],
             [
              0.3333333333333333,
              "#9c179e"
             ],
             [
              0.4444444444444444,
              "#bd3786"
             ],
             [
              0.5555555555555556,
              "#d8576b"
             ],
             [
              0.6666666666666666,
              "#ed7953"
             ],
             [
              0.7777777777777778,
              "#fb9f3a"
             ],
             [
              0.8888888888888888,
              "#fdca26"
             ],
             [
              1,
              "#f0f921"
             ]
            ],
            "type": "histogram2dcontour"
           }
          ],
          "mesh3d": [
           {
            "colorbar": {
             "outlinewidth": 0,
             "ticks": ""
            },
            "type": "mesh3d"
           }
          ],
          "parcoords": [
           {
            "line": {
             "colorbar": {
              "outlinewidth": 0,
              "ticks": ""
             }
            },
            "type": "parcoords"
           }
          ],
          "pie": [
           {
            "automargin": true,
            "type": "pie"
           }
          ],
          "scatter": [
           {
            "fillpattern": {
             "fillmode": "overlay",
             "size": 10,
             "solidity": 0.2
            },
            "type": "scatter"
           }
          ],
          "scatter3d": [
           {
            "line": {
             "colorbar": {
              "outlinewidth": 0,
              "ticks": ""
             }
            },
            "marker": {
             "colorbar": {
              "outlinewidth": 0,
              "ticks": ""
             }
            },
            "type": "scatter3d"
           }
          ],
          "scattercarpet": [
           {
            "marker": {
             "colorbar": {
              "outlinewidth": 0,
              "ticks": ""
             }
            },
            "type": "scattercarpet"
           }
          ],
          "scattergeo": [
           {
            "marker": {
             "colorbar": {
              "outlinewidth": 0,
              "ticks": ""
             }
            },
            "type": "scattergeo"
           }
          ],
          "scattergl": [
           {
            "marker": {
             "colorbar": {
              "outlinewidth": 0,
              "ticks": ""
             }
            },
            "type": "scattergl"
           }
          ],
          "scattermapbox": [
           {
            "marker": {
             "colorbar": {
              "outlinewidth": 0,
              "ticks": ""
             }
            },
            "type": "scattermapbox"
           }
          ],
          "scatterpolar": [
           {
            "marker": {
             "colorbar": {
              "outlinewidth": 0,
              "ticks": ""
             }
            },
            "type": "scatterpolar"
           }
          ],
          "scatterpolargl": [
           {
            "marker": {
             "colorbar": {
              "outlinewidth": 0,
              "ticks": ""
             }
            },
            "type": "scatterpolargl"
           }
          ],
          "scatterternary": [
           {
            "marker": {
             "colorbar": {
              "outlinewidth": 0,
              "ticks": ""
             }
            },
            "type": "scatterternary"
           }
          ],
          "surface": [
           {
            "colorbar": {
             "outlinewidth": 0,
             "ticks": ""
            },
            "colorscale": [
             [
              0,
              "#0d0887"
             ],
             [
              0.1111111111111111,
              "#46039f"
             ],
             [
              0.2222222222222222,
              "#7201a8"
             ],
             [
              0.3333333333333333,
              "#9c179e"
             ],
             [
              0.4444444444444444,
              "#bd3786"
             ],
             [
              0.5555555555555556,
              "#d8576b"
             ],
             [
              0.6666666666666666,
              "#ed7953"
             ],
             [
              0.7777777777777778,
              "#fb9f3a"
             ],
             [
              0.8888888888888888,
              "#fdca26"
             ],
             [
              1,
              "#f0f921"
             ]
            ],
            "type": "surface"
           }
          ],
          "table": [
           {
            "cells": {
             "fill": {
              "color": "#EBF0F8"
             },
             "line": {
              "color": "white"
             }
            },
            "header": {
             "fill": {
              "color": "#C8D4E3"
             },
             "line": {
              "color": "white"
             }
            },
            "type": "table"
           }
          ]
         },
         "layout": {
          "annotationdefaults": {
           "arrowcolor": "#2a3f5f",
           "arrowhead": 0,
           "arrowwidth": 1
          },
          "autotypenumbers": "strict",
          "coloraxis": {
           "colorbar": {
            "outlinewidth": 0,
            "ticks": ""
           }
          },
          "colorscale": {
           "diverging": [
            [
             0,
             "#8e0152"
            ],
            [
             0.1,
             "#c51b7d"
            ],
            [
             0.2,
             "#de77ae"
            ],
            [
             0.3,
             "#f1b6da"
            ],
            [
             0.4,
             "#fde0ef"
            ],
            [
             0.5,
             "#f7f7f7"
            ],
            [
             0.6,
             "#e6f5d0"
            ],
            [
             0.7,
             "#b8e186"
            ],
            [
             0.8,
             "#7fbc41"
            ],
            [
             0.9,
             "#4d9221"
            ],
            [
             1,
             "#276419"
            ]
           ],
           "sequential": [
            [
             0,
             "#0d0887"
            ],
            [
             0.1111111111111111,
             "#46039f"
            ],
            [
             0.2222222222222222,
             "#7201a8"
            ],
            [
             0.3333333333333333,
             "#9c179e"
            ],
            [
             0.4444444444444444,
             "#bd3786"
            ],
            [
             0.5555555555555556,
             "#d8576b"
            ],
            [
             0.6666666666666666,
             "#ed7953"
            ],
            [
             0.7777777777777778,
             "#fb9f3a"
            ],
            [
             0.8888888888888888,
             "#fdca26"
            ],
            [
             1,
             "#f0f921"
            ]
           ],
           "sequentialminus": [
            [
             0,
             "#0d0887"
            ],
            [
             0.1111111111111111,
             "#46039f"
            ],
            [
             0.2222222222222222,
             "#7201a8"
            ],
            [
             0.3333333333333333,
             "#9c179e"
            ],
            [
             0.4444444444444444,
             "#bd3786"
            ],
            [
             0.5555555555555556,
             "#d8576b"
            ],
            [
             0.6666666666666666,
             "#ed7953"
            ],
            [
             0.7777777777777778,
             "#fb9f3a"
            ],
            [
             0.8888888888888888,
             "#fdca26"
            ],
            [
             1,
             "#f0f921"
            ]
           ]
          },
          "colorway": [
           "#636efa",
           "#EF553B",
           "#00cc96",
           "#ab63fa",
           "#FFA15A",
           "#19d3f3",
           "#FF6692",
           "#B6E880",
           "#FF97FF",
           "#FECB52"
          ],
          "font": {
           "color": "#2a3f5f"
          },
          "geo": {
           "bgcolor": "white",
           "lakecolor": "white",
           "landcolor": "#E5ECF6",
           "showlakes": true,
           "showland": true,
           "subunitcolor": "white"
          },
          "hoverlabel": {
           "align": "left"
          },
          "hovermode": "closest",
          "mapbox": {
           "style": "light"
          },
          "paper_bgcolor": "white",
          "plot_bgcolor": "#E5ECF6",
          "polar": {
           "angularaxis": {
            "gridcolor": "white",
            "linecolor": "white",
            "ticks": ""
           },
           "bgcolor": "#E5ECF6",
           "radialaxis": {
            "gridcolor": "white",
            "linecolor": "white",
            "ticks": ""
           }
          },
          "scene": {
           "xaxis": {
            "backgroundcolor": "#E5ECF6",
            "gridcolor": "white",
            "gridwidth": 2,
            "linecolor": "white",
            "showbackground": true,
            "ticks": "",
            "zerolinecolor": "white"
           },
           "yaxis": {
            "backgroundcolor": "#E5ECF6",
            "gridcolor": "white",
            "gridwidth": 2,
            "linecolor": "white",
            "showbackground": true,
            "ticks": "",
            "zerolinecolor": "white"
           },
           "zaxis": {
            "backgroundcolor": "#E5ECF6",
            "gridcolor": "white",
            "gridwidth": 2,
            "linecolor": "white",
            "showbackground": true,
            "ticks": "",
            "zerolinecolor": "white"
           }
          },
          "shapedefaults": {
           "line": {
            "color": "#2a3f5f"
           }
          },
          "ternary": {
           "aaxis": {
            "gridcolor": "white",
            "linecolor": "white",
            "ticks": ""
           },
           "baxis": {
            "gridcolor": "white",
            "linecolor": "white",
            "ticks": ""
           },
           "bgcolor": "#E5ECF6",
           "caxis": {
            "gridcolor": "white",
            "linecolor": "white",
            "ticks": ""
           }
          },
          "title": {
           "x": 0.05
          },
          "xaxis": {
           "automargin": true,
           "gridcolor": "white",
           "linecolor": "white",
           "ticks": "",
           "title": {
            "standoff": 15
           },
           "zerolinecolor": "white",
           "zerolinewidth": 2
          },
          "yaxis": {
           "automargin": true,
           "gridcolor": "white",
           "linecolor": "white",
           "ticks": "",
           "title": {
            "standoff": 15
           },
           "zerolinecolor": "white",
           "zerolinewidth": 2
          }
         }
        }
       }
      }
     },
     "metadata": {},
     "output_type": "display_data"
    }
   ],
   "source": [
    "fig = px.scatter_geo(mapaVentas, lat = 'Latitud', lon = 'Longitud', size = 'Ventas 2021',\n",
    "                     scope = 'europe', center = {'lon': -3.72, 'lat': 40})\n",
    "fig.update_layout(autosize = True, geo = dict(projection_scale = 6))\n",
    "\n",
    "fig.show()"
   ]
  },
  {
   "cell_type": "code",
   "execution_count": null,
   "metadata": {},
   "outputs": [],
   "source": []
  },
  {
   "cell_type": "code",
   "execution_count": 229,
   "metadata": {},
   "outputs": [
    {
     "data": {
      "text/html": [
       "<div>\n",
       "<style scoped>\n",
       "    .dataframe tbody tr th:only-of-type {\n",
       "        vertical-align: middle;\n",
       "    }\n",
       "\n",
       "    .dataframe tbody tr th {\n",
       "        vertical-align: top;\n",
       "    }\n",
       "\n",
       "    .dataframe thead th {\n",
       "        text-align: right;\n",
       "    }\n",
       "</style>\n",
       "<table border=\"1\" class=\"dataframe\">\n",
       "  <thead>\n",
       "    <tr style=\"text-align: right;\">\n",
       "      <th></th>\n",
       "      <th>\"id\",\"name\",\"longitude\",\"latitude\",\"tot_pop\"</th>\n",
       "    </tr>\n",
       "  </thead>\n",
       "  <tbody>\n",
       "    <tr>\n",
       "      <th>0</th>\n",
       "      <td>\"01\",\"Andaluc?a\",-4.57619759928521,37.46811785...</td>\n",
       "    </tr>\n",
       "    <tr>\n",
       "      <th>1</th>\n",
       "      <td>\"02\",\"Arag?n\",-0.665188363252903,41.5139247146545</td>\n",
       "    </tr>\n",
       "    <tr>\n",
       "      <th>2</th>\n",
       "      <td>\"03\",\"Principado de Asturias\",-5.9932767512726...</td>\n",
       "    </tr>\n",
       "    <tr>\n",
       "      <th>3</th>\n",
       "      <td>\"04\",\"Islas Baleares\",2.90480293180095,39.5736...</td>\n",
       "    </tr>\n",
       "    <tr>\n",
       "      <th>4</th>\n",
       "      <td>\"05\",\"Islas Canarias\",-15.6703443955745,28.350...</td>\n",
       "    </tr>\n",
       "    <tr>\n",
       "      <th>5</th>\n",
       "      <td>\"06\",\"Cantabria\",-4.03212552496074,43.19715117...</td>\n",
       "    </tr>\n",
       "    <tr>\n",
       "      <th>6</th>\n",
       "      <td>\"07\",\"Castilla y Le?n\",-4.78484344919995,41.75...</td>\n",
       "    </tr>\n",
       "    <tr>\n",
       "      <th>7</th>\n",
       "      <td>\"08\",\"Castilla-La Mancha\",-3.00638893532113,39...</td>\n",
       "    </tr>\n",
       "    <tr>\n",
       "      <th>8</th>\n",
       "      <td>\"09\",\"Catalu?a\",1.5243542306751,41.797427299488</td>\n",
       "    </tr>\n",
       "    <tr>\n",
       "      <th>9</th>\n",
       "      <td>\"10\",\"Comunidad Valenciana\",-0.557814181118517...</td>\n",
       "    </tr>\n",
       "    <tr>\n",
       "      <th>10</th>\n",
       "      <td>\"11\",\"Extremadura\",-6.15132249142922,39.187739...</td>\n",
       "    </tr>\n",
       "    <tr>\n",
       "      <th>11</th>\n",
       "      <td>\"12\",\"Galicia\",-7.91087207569347,42.7547472692852</td>\n",
       "    </tr>\n",
       "    <tr>\n",
       "      <th>12</th>\n",
       "      <td>\"13\",\"Comunidad de Madrid\",-3.71679674194616,4...</td>\n",
       "    </tr>\n",
       "    <tr>\n",
       "      <th>13</th>\n",
       "      <td>\"14\",\"Regi?n de Murcia\",-1.48537547094598,38.0...</td>\n",
       "    </tr>\n",
       "    <tr>\n",
       "      <th>14</th>\n",
       "      <td>\"15\",\"Comunidad Foral de Navarra\",-1.647780493...</td>\n",
       "    </tr>\n",
       "    <tr>\n",
       "      <th>15</th>\n",
       "      <td>\"16\",\"Pa?s Vasco\",-2.61690349909685,43.0432512...</td>\n",
       "    </tr>\n",
       "    <tr>\n",
       "      <th>16</th>\n",
       "      <td>\"17\",\"La Rioja\",-2.5164092074648,42.2752992031491</td>\n",
       "    </tr>\n",
       "    <tr>\n",
       "      <th>17</th>\n",
       "      <td>\"18\",\"Ceuta y Melilla\",-4.70069346060481,35.74...</td>\n",
       "    </tr>\n",
       "  </tbody>\n",
       "</table>\n",
       "</div>"
      ],
      "text/plain": [
       "         \"id\",\"name\",\"longitude\",\"latitude\",\"tot_pop\"\n",
       "0   \"01\",\"Andaluc?a\",-4.57619759928521,37.46811785...\n",
       "1   \"02\",\"Arag?n\",-0.665188363252903,41.5139247146545\n",
       "2   \"03\",\"Principado de Asturias\",-5.9932767512726...\n",
       "3   \"04\",\"Islas Baleares\",2.90480293180095,39.5736...\n",
       "4   \"05\",\"Islas Canarias\",-15.6703443955745,28.350...\n",
       "5   \"06\",\"Cantabria\",-4.03212552496074,43.19715117...\n",
       "6   \"07\",\"Castilla y Le?n\",-4.78484344919995,41.75...\n",
       "7   \"08\",\"Castilla-La Mancha\",-3.00638893532113,39...\n",
       "8     \"09\",\"Catalu?a\",1.5243542306751,41.797427299488\n",
       "9   \"10\",\"Comunidad Valenciana\",-0.557814181118517...\n",
       "10  \"11\",\"Extremadura\",-6.15132249142922,39.187739...\n",
       "11  \"12\",\"Galicia\",-7.91087207569347,42.7547472692852\n",
       "12  \"13\",\"Comunidad de Madrid\",-3.71679674194616,4...\n",
       "13  \"14\",\"Regi?n de Murcia\",-1.48537547094598,38.0...\n",
       "14  \"15\",\"Comunidad Foral de Navarra\",-1.647780493...\n",
       "15  \"16\",\"Pa?s Vasco\",-2.61690349909685,43.0432512...\n",
       "16  \"17\",\"La Rioja\",-2.5164092074648,42.2752992031491\n",
       "17  \"18\",\"Ceuta y Melilla\",-4.70069346060481,35.74..."
      ]
     },
     "execution_count": 229,
     "metadata": {},
     "output_type": "execute_result"
    }
   ],
   "source": [
    "import pandas as pd\n",
    "\n",
    "lati = pd.read_csv('/Users/Ade/OneDrive/Escritorio/EDA/datos/Prov_ncies_d_Espanya.csv', sep=\",\")\n",
    "lati"
   ]
  },
  {
   "cell_type": "code",
   "execution_count": null,
   "metadata": {},
   "outputs": [],
   "source": []
  }
 ],
 "metadata": {
  "kernelspec": {
   "display_name": "Python 3",
   "language": "python",
   "name": "python3"
  },
  "language_info": {
   "codemirror_mode": {
    "name": "ipython",
    "version": 3
   },
   "file_extension": ".py",
   "mimetype": "text/x-python",
   "name": "python",
   "nbconvert_exporter": "python",
   "pygments_lexer": "ipython3",
   "version": "3.7.4"
  },
  "orig_nbformat": 4
 },
 "nbformat": 4,
 "nbformat_minor": 2
}
